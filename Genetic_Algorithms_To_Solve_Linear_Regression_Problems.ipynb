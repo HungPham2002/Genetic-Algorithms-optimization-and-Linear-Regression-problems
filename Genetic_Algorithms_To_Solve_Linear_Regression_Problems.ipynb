{
  "nbformat": 4,
  "nbformat_minor": 0,
  "metadata": {
    "colab": {
      "provenance": [],
      "toc_visible": true,
      "mount_file_id": "1-H_KraQKU42nrKwddNZZbNbqdq_cHaGQ",
      "authorship_tag": "ABX9TyPJb3LuyRoh+eI/QHxu0XE0",
      "include_colab_link": true
    },
    "kernelspec": {
      "name": "python3",
      "display_name": "Python 3"
    },
    "language_info": {
      "name": "python"
    }
  },
  "cells": [
    {
      "cell_type": "markdown",
      "metadata": {
        "id": "view-in-github",
        "colab_type": "text"
      },
      "source": [
        "<a href=\"https://colab.research.google.com/github/HungPham2002/Genetic-Algorithms-optimization-and-Linear-Regression-problems/blob/main/Genetic_Algorithms_To_Solve_Linear_Regression_Problems.ipynb\" target=\"_parent\"><img src=\"https://colab.research.google.com/assets/colab-badge.svg\" alt=\"Open In Colab\"/></a>"
      ]
    },
    {
      "cell_type": "markdown",
      "source": [
        "# House Price Prediction"
      ],
      "metadata": {
        "id": "bGiSmVq1SlSw"
      }
    },
    {
      "cell_type": "code",
      "execution_count": 150,
      "metadata": {
        "colab": {
          "base_uri": "https://localhost:8080/"
        },
        "id": "fTTq6nYNRfkK",
        "outputId": "f0a304cb-a167-4671-a932-24fc09976a25"
      },
      "outputs": [
        {
          "output_type": "stream",
          "name": "stdout",
          "text": [
            "[[1.   1.2 ]\n",
            " [1.   1.86]\n",
            " [1.   2.09]\n",
            " [1.   3.05]\n",
            " [1.   4.69]\n",
            " [1.   3.57]\n",
            " [1.   5.55]\n",
            " [1.   2.39]\n",
            " [1.   3.94]]\n",
            "[2.43 2.91 3.41 4.71 5.94 5.4  7.04 3.38 5.29]\n"
          ]
        }
      ],
      "source": [
        "import random\n",
        "import numpy as np\n",
        "from numpy import genfromtxt\n",
        "import matplotlib.pyplot as plt\n",
        "\n",
        "data = genfromtxt('/content/drive/MyDrive/Colab_Notebooks/AIO main lesson/Genetic Algorithm (linear regression/data.csv', delimiter=',', skip_header=1)\n",
        "X = data[:,:1]\n",
        "y = data[:,1]\n",
        "\n",
        "X = np.c_[np.ones((X.shape[0],1)), X]\n",
        "print(X)\n",
        "print(y)"
      ]
    },
    {
      "cell_type": "code",
      "source": [
        "import matplotlib.pyplot as plt\n",
        "\n",
        "fig, ax = plt.subplots(figsize=(6, 4))\n",
        "ax.set_ylim((0, 9))\n",
        "ax.set_xlim((0, 7))\n",
        "\n",
        "plt.scatter(X[:, 1], y)\n",
        "plt.show()"
      ],
      "metadata": {
        "colab": {
          "base_uri": "https://localhost:8080/",
          "height": 374
        },
        "id": "Smm6y4mcSrMT",
        "outputId": "e25e700d-5d77-4cdc-fa1c-f2fb76fe33d0"
      },
      "execution_count": 151,
      "outputs": [
        {
          "output_type": "display_data",
          "data": {
            "text/plain": [
              "<Figure size 600x400 with 1 Axes>"
            ],
            "image/png": "[encoded data removed]"
          },
          "metadata": {}
        }
      ]
    },
    {
      "cell_type": "code",
      "source": [
        "def generate_random_value(bound=100):\n",
        "    return (random.random() * 2 - 1) * bound\n",
        "\n",
        "def compute_loss(individual):\n",
        "    theta = np.array(individual)\n",
        "    y_hat = X.dot(theta)\n",
        "    loss = np.multiply((y_hat - y), (y_hat - y)).mean()\n",
        "    return loss\n",
        "\n",
        "def compute_fitness(individual):\n",
        "    loss = compute_loss(individual)\n",
        "    fitness = 1 / (loss + 0.0001)\n",
        "    return fitness"
      ],
      "metadata": {
        "id": "XUN7h62lSrOw"
      },
      "execution_count": 152,
      "outputs": []
    },
    {
      "cell_type": "code",
      "source": [
        "def create_individual():\n",
        "    return [generate_random_value() for _ in range(n)]\n",
        "\n",
        "def crossover(individual1, individual2, crossover_rate=0.9):\n",
        "    individual1_new = individual1.copy()\n",
        "    individual2_new = individual2.copy()\n",
        "\n",
        "    for i in range(n):\n",
        "        if random.random() < crossover_rate:\n",
        "            individual1_new[i] = individual2[i]\n",
        "            individual2_new[i] = individual1[i]\n",
        "\n",
        "    return individual1_new, individual2_new\n",
        "\n",
        "def mutate(individual, mutation_rate=0.05):\n",
        "    individual_m = individual.copy()\n",
        "\n",
        "    for i in range(n):\n",
        "        if random.random() < mutation_rate:\n",
        "            individual_m[i] = generate_random_value()\n",
        "\n",
        "    return individual_m\n",
        "\n",
        "def selection(sorted_old_population):\n",
        "    index1 = random.randint(0, m - 1)\n",
        "    index2 = random.randint(0, m - 1)\n",
        "\n",
        "    while index2 == index1:\n",
        "        index2 = random.randint(0, m - 1)\n",
        "\n",
        "    individual_s = sorted_old_population[index1]\n",
        "    if index2 > index1:\n",
        "        individual_s = sorted_old_population[index2]\n",
        "\n",
        "    return individual_s"
      ],
      "metadata": {
        "id": "QW_yg4NcZLGl"
      },
      "execution_count": 153,
      "outputs": []
    },
    {
      "cell_type": "code",
      "source": [
        "n = 2                  # size of individual (chromosome)\n",
        "m = 100                # size of population\n",
        "n_generations = 3000   # number of generations\n",
        "losses = []            # để vẽ biểu đồ quá trình tối ưu\n",
        "\n",
        "######################### algorithm  #########################\n",
        "# step 1: create initial population\n",
        "population = [create_individual() for _ in range(m)]\n",
        "\n",
        "#==== loops\n",
        "elitism = 2\n",
        "for i in range(n_generations):\n",
        "    sorted_population = sorted(population, key=compute_fitness)\n",
        "\n",
        "    if i%100 == 0:\n",
        "        losses.append(compute_loss(sorted_population[-1]))\n",
        "        print(\"Best loss:\", compute_loss(sorted_population[-1]), sorted_population[-1])\n",
        "\n",
        "    # create new_population\n",
        "    new_population = sorted_population[-elitism:]\n",
        "\n",
        "    while len(new_population) < m:\n",
        "        # selection\n",
        "        individual_s1 = selection(sorted_population)\n",
        "        individual_s2 = selection(sorted_population) # duplication\n",
        "\n",
        "        # crossover\n",
        "        individual_c1, individual_c2 = crossover(individual_s1, individual_s2)\n",
        "\n",
        "        # mutation\n",
        "        individual_m1 = mutate(individual_c1)\n",
        "        individual_m2 = mutate(individual_c2)\n",
        "\n",
        "        new_population.append(individual_m1)\n",
        "        new_population.append(individual_m2)\n",
        "\n",
        "    # update population\n",
        "    population = new_population"
      ],
      "metadata": {
        "colab": {
          "base_uri": "https://localhost:8080/"
        },
        "id": "TehtOz6XZLJa",
        "outputId": "d7866dae-0718-4d79-a0a2-b1ec35d8735f"
      },
      "execution_count": 155,
      "outputs": [
        {
          "output_type": "stream",
          "name": "stdout",
          "text": [
            "Best loss: 517.3399855688084 [-51.543465949715014, 12.415923749691316]\n",
            "Best loss: 23.554742966084692 [-11.245005781460616, 4.274419717796452]\n",
            "Best loss: 15.766324063449291 [-9.02017451263719, 3.8633468683008987]\n",
            "Best loss: 1.0555350503246261 [-1.4437798769082022, 1.7934025611785032]\n",
            "Best loss: 0.9670200133075871 [-1.1555887973938583, 1.7934025611785032]\n",
            "Best loss: 0.4714552613712436 [-0.5151128499922608, 1.476276649410524]\n",
            "Best loss: 0.4714552613712436 [-0.5151128499922608, 1.476276649410524]\n",
            "Best loss: 0.33633778345410653 [-0.15016681624739903, 1.476276649410524]\n",
            "Best loss: 0.33633778345410653 [-0.15016681624739903, 1.476276649410524]\n",
            "Best loss: 0.2962055621755779 [-0.15016681624739903, 1.429296367167776]\n",
            "Best loss: 0.2962055621755779 [-0.15016681624739903, 1.429296367167776]\n",
            "Best loss: 0.2962055621755779 [-0.15016681624739903, 1.429296367167776]\n",
            "Best loss: 0.2962055621755779 [-0.15016681624739903, 1.429296367167776]\n",
            "Best loss: 0.27421940790607047 [-0.025831783360552585, 1.429296367167776]\n",
            "Best loss: 0.2090738888596012 [0.15334431824769457, 1.372773388443993]\n",
            "Best loss: 0.2090738888596012 [0.15334431824769457, 1.372773388443993]\n",
            "Best loss: 0.2090738888596012 [0.15334431824769457, 1.372773388443993]\n",
            "Best loss: 0.2090738888596012 [0.15334431824769457, 1.372773388443993]\n",
            "Best loss: 0.208466125778079 [0.18287642238996593, 1.372773388443993]\n",
            "Best loss: 0.208466125778079 [0.18287642238996593, 1.372773388443993]\n",
            "Best loss: 0.208466125778079 [0.18287642238996593, 1.372773388443993]\n",
            "Best loss: 0.208466125778079 [0.18287642238996593, 1.372773388443993]\n",
            "Best loss: 0.208466125778079 [0.18287642238996593, 1.372773388443993]\n",
            "Best loss: 0.20816239611039594 [0.18287642238996593, 1.3724908953737458]\n",
            "Best loss: 0.20816239611039594 [0.18287642238996593, 1.3724908953737458]\n",
            "Best loss: 0.20816239611039594 [0.18287642238996593, 1.3724908953737458]\n",
            "Best loss: 0.20816239611039594 [0.18287642238996593, 1.3724908953737458]\n",
            "Best loss: 0.20816239611039594 [0.18287642238996593, 1.3724908953737458]\n",
            "Best loss: 0.20816239611039594 [0.18287642238996593, 1.3724908953737458]\n",
            "Best loss: 0.20816239611039594 [0.18287642238996593, 1.3724908953737458]\n"
          ]
        }
      ]
    },
    {
      "cell_type": "code",
      "source": [
        "sorted_population = sorted(population, key=compute_fitness)\n",
        "print(sorted_population[-1])"
      ],
      "metadata": {
        "colab": {
          "base_uri": "https://localhost:8080/"
        },
        "id": "QTTMJ5BpZLL6",
        "outputId": "7d16ae66-4fde-48a1-b8db-6869d3850d66"
      },
      "execution_count": 156,
      "outputs": [
        {
          "output_type": "stream",
          "name": "stdout",
          "text": [
            "[0.18287642238996593, 1.3724908953737458]\n"
          ]
        }
      ]
    },
    {
      "cell_type": "code",
      "source": [
        "import matplotlib.pyplot as plt\n",
        "\n",
        "fig, ax = plt.subplots(figsize=(10, 6))\n",
        "ax.set_ylim((0, 9))\n",
        "ax.set_xlim((0, 7))\n",
        "\n",
        "plt.scatter(X[:, 1], y)\n",
        "plt.ylabel('House Price')\n",
        "plt.xlabel('Area')\n",
        "\n",
        "x_data = list(range(0, 7))\n",
        "y_data = [1.3724908953737458*x + 0.18287642238996593 for x in x_data]\n",
        "plt.plot(x_data, y_data,c='green')\n",
        "plt.show()"
      ],
      "metadata": {
        "colab": {
          "base_uri": "https://localhost:8080/",
          "height": 547
        },
        "id": "5aAWGfZzZLOf",
        "outputId": "f08caef2-d1d9-4d29-e92e-1e8c18fc0b24"
      },
      "execution_count": 157,
      "outputs": [
        {
          "output_type": "display_data",
          "data": {
            "text/plain": [
              "<Figure size 1000x600 with 1 Axes>"
            ],
            "image/png": "[encoded data removed]"
          },
          "metadata": {}
        }
      ]
    },
    {
      "cell_type": "code",
      "source": [
        "import matplotlib.pyplot as plt\n",
        "\n",
        "plt.plot(losses[:20], c='green')\n",
        "plt.xlabel('Generations')\n",
        "plt.ylabel('losses')\n",
        "plt.show()"
      ],
      "metadata": {
        "colab": {
          "base_uri": "https://localhost:8080/",
          "height": 449
        },
        "id": "Jv7YI916ZLRA",
        "outputId": "1009aecc-c414-4b3c-a791-a714130fb9fb"
      },
      "execution_count": 158,
      "outputs": [
        {
          "output_type": "display_data",
          "data": {
            "text/plain": [
              "<Figure size 640x480 with 1 Axes>"
            ],
            "image/png": "[encoded data removed]"
          },
          "metadata": {}
        }
      ]
    },
    {
      "cell_type": "code",
      "source": [],
      "metadata": {
        "id": "SVuObKpMSrRP"
      },
      "execution_count": null,
      "outputs": []
    },
    {
      "cell_type": "code",
      "source": [],
      "metadata": {
        "id": "Q8Drh2MsSrV9"
      },
      "execution_count": null,
      "outputs": []
    },
    {
      "cell_type": "markdown",
      "source": [
        "# Diamond Price Prediction"
      ],
      "metadata": {
        "id": "o-RB7Cn3b1de"
      }
    },
    {
      "cell_type": "code",
      "source": [
        "import pandas as pd\n",
        "import numpy as np\n",
        "import matplotlib.pyplot as plt\n"
      ],
      "metadata": {
        "id": "pY3Zcrj9b4qR"
      },
      "execution_count": null,
      "outputs": []
    },
    {
      "cell_type": "code",
      "source": [
        "data_df  = pd.read_csv('/content/drive/MyDrive/Colab_Notebooks/AIO main lesson/Diamond Price Forcasting/diamonds.csv')"
      ],
      "metadata": {
        "id": "GBmkLj2vb4tX"
      },
      "execution_count": 80,
      "outputs": []
    },
    {
      "cell_type": "markdown",
      "source": [
        "## Data Exploration"
      ],
      "metadata": {
        "id": "WKRO_JoCevYR"
      }
    },
    {
      "cell_type": "code",
      "source": [
        "data_df.head(5)"
      ],
      "metadata": {
        "colab": {
          "base_uri": "https://localhost:8080/",
          "height": 206
        },
        "id": "huymLNLLb4yD",
        "outputId": "07dc03dd-9ebf-45da-b1db-4c412995dbe9"
      },
      "execution_count": null,
      "outputs": [
        {
          "output_type": "execute_result",
          "data": {
            "text/plain": [
              "   Unnamed: 0  carat      cut color clarity  depth  table  price     x     y  \\\n",
              "0           1   0.23    Ideal     E     SI2   61.5   55.0    326  3.95  3.98   \n",
              "1           2   0.21  Premium     E     SI1   59.8   61.0    326  3.89  3.84   \n",
              "2           3   0.23     Good     E     VS1   56.9   65.0    327  4.05  4.07   \n",
              "3           4   0.29  Premium     I     VS2   62.4   58.0    334  4.20  4.23   \n",
              "4           5   0.31     Good     J     SI2   63.3   58.0    335  4.34  4.35   \n",
              "\n",
              "      z  \n",
              "0  2.43  \n",
              "1  2.31  \n",
              "2  2.31  \n",
              "3  2.63  \n",
              "4  2.75  "
            ],
            "text/html": [
              "\n",
              "\n",
              "  <div id=\"df-4fac85bd-1fb2-4380-972d-ff15a0945d76\">\n",
              "    <div class=\"colab-df-container\">\n",
              "      <div>\n",
              "<style scoped>\n",
              "    .dataframe tbody tr th:only-of-type {\n",
              "        vertical-align: middle;\n",
              "    }\n",
              "\n",
              "    .dataframe tbody tr th {\n",
              "        vertical-align: top;\n",
              "    }\n",
              "\n",
              "    .dataframe thead th {\n",
              "        text-align: right;\n",
              "    }\n",
              "</style>\n",
              "<table border=\"1\" class=\"dataframe\">\n",
              "  <thead>\n",
              "    <tr style=\"text-align: right;\">\n",
              "      <th></th>\n",
              "      <th>Unnamed: 0</th>\n",
              "      <th>carat</th>\n",
              "      <th>cut</th>\n",
              "      <th>color</th>\n",
              "      <th>clarity</th>\n",
              "      <th>depth</th>\n",
              "      <th>table</th>\n",
              "      <th>price</th>\n",
              "      <th>x</th>\n",
              "      <th>y</th>\n",
              "      <th>z</th>\n",
              "    </tr>\n",
              "  </thead>\n",
              "  <tbody>\n",
              "    <tr>\n",
              "      <th>0</th>\n",
              "      <td>1</td>\n",
              "      <td>0.23</td>\n",
              "      <td>Ideal</td>\n",
              "      <td>E</td>\n",
              "      <td>SI2</td>\n",
              "      <td>61.5</td>\n",
              "      <td>55.0</td>\n",
              "      <td>326</td>\n",
              "      <td>3.95</td>\n",
              "      <td>3.98</td>\n",
              "      <td>2.43</td>\n",
              "    </tr>\n",
              "    <tr>\n",
              "      <th>1</th>\n",
              "      <td>2</td>\n",
              "      <td>0.21</td>\n",
              "      <td>Premium</td>\n",
              "      <td>E</td>\n",
              "      <td>SI1</td>\n",
              "      <td>59.8</td>\n",
              "      <td>61.0</td>\n",
              "      <td>326</td>\n",
              "      <td>3.89</td>\n",
              "      <td>3.84</td>\n",
              "      <td>2.31</td>\n",
              "    </tr>\n",
              "    <tr>\n",
              "      <th>2</th>\n",
              "      <td>3</td>\n",
              "      <td>0.23</td>\n",
              "      <td>Good</td>\n",
              "      <td>E</td>\n",
              "      <td>VS1</td>\n",
              "      <td>56.9</td>\n",
              "      <td>65.0</td>\n",
              "      <td>327</td>\n",
              "      <td>4.05</td>\n",
              "      <td>4.07</td>\n",
              "      <td>2.31</td>\n",
              "    </tr>\n",
              "    <tr>\n",
              "      <th>3</th>\n",
              "      <td>4</td>\n",
              "      <td>0.29</td>\n",
              "      <td>Premium</td>\n",
              "      <td>I</td>\n",
              "      <td>VS2</td>\n",
              "      <td>62.4</td>\n",
              "      <td>58.0</td>\n",
              "      <td>334</td>\n",
              "      <td>4.20</td>\n",
              "      <td>4.23</td>\n",
              "      <td>2.63</td>\n",
              "    </tr>\n",
              "    <tr>\n",
              "      <th>4</th>\n",
              "      <td>5</td>\n",
              "      <td>0.31</td>\n",
              "      <td>Good</td>\n",
              "      <td>J</td>\n",
              "      <td>SI2</td>\n",
              "      <td>63.3</td>\n",
              "      <td>58.0</td>\n",
              "      <td>335</td>\n",
              "      <td>4.34</td>\n",
              "      <td>4.35</td>\n",
              "      <td>2.75</td>\n",
              "    </tr>\n",
              "  </tbody>\n",
              "</table>\n",
              "</div>\n",
              "      <button class=\"colab-df-convert\" onclick=\"convertToInteractive('df-4fac85bd-1fb2-4380-972d-ff15a0945d76')\"\n",
              "              title=\"Convert this dataframe to an interactive table.\"\n",
              "              style=\"display:none;\">\n",
              "\n",
              "  <svg xmlns=\"http://www.w3.org/2000/svg\" height=\"24px\"viewBox=\"0 0 24 24\"\n",
              "       width=\"24px\">\n",
              "    <path d=\"M0 0h24v24H0V0z\" fill=\"none\"/>\n",
              "    <path d=\"M18.56 5.44l.94 2.06.94-2.06 2.06-.94-2.06-.94-.94-2.06-.94 2.06-2.06.94zm-11 1L8.5 8.5l.94-2.06 2.06-.94-2.06-.94L8.5 2.5l-.94 2.06-2.06.94zm10 10l.94 2.06.94-2.06 2.06-.94-2.06-.94-.94-2.06-.94 2.06-2.06.94z\"/><path d=\"M17.41 7.96l-1.37-1.37c-.4-.4-.92-.59-1.43-.59-.52 0-1.04.2-1.43.59L10.3 9.45l-7.72 7.72c-.78.78-.78 2.05 0 2.83L4 21.41c.39.39.9.59 1.41.59.51 0 1.02-.2 1.41-.59l7.78-7.78 2.81-2.81c.8-.78.8-2.07 0-2.86zM5.41 20L4 18.59l7.72-7.72 1.47 1.35L5.41 20z\"/>\n",
              "  </svg>\n",
              "      </button>\n",
              "\n",
              "\n",
              "\n",
              "    <div id=\"df-235b65f2-ee03-49ef-8547-452e887b7346\">\n",
              "      <button class=\"colab-df-quickchart\" onclick=\"quickchart('df-235b65f2-ee03-49ef-8547-452e887b7346')\"\n",
              "              title=\"Suggest charts.\"\n",
              "              style=\"display:none;\">\n",
              "\n",
              "<svg xmlns=\"http://www.w3.org/2000/svg\" height=\"24px\"viewBox=\"0 0 24 24\"\n",
              "     width=\"24px\">\n",
              "    <g>\n",
              "        <path d=\"M19 3H5c-1.1 0-2 .9-2 2v14c0 1.1.9 2 2 2h14c1.1 0 2-.9 2-2V5c0-1.1-.9-2-2-2zM9 17H7v-7h2v7zm4 0h-2V7h2v10zm4 0h-2v-4h2v4z\"/>\n",
              "    </g>\n",
              "</svg>\n",
              "      </button>\n",
              "    </div>\n",
              "\n",
              "<style>\n",
              "  .colab-df-quickchart {\n",
              "    background-color: #E8F0FE;\n",
              "    border: none;\n",
              "    border-radius: 50%;\n",
              "    cursor: pointer;\n",
              "    display: none;\n",
              "    fill: #1967D2;\n",
              "    height: 32px;\n",
              "    padding: 0 0 0 0;\n",
              "    width: 32px;\n",
              "  }\n",
              "\n",
              "  .colab-df-quickchart:hover {\n",
              "    background-color: #E2EBFA;\n",
              "    box-shadow: 0px 1px 2px rgba(60, 64, 67, 0.3), 0px 1px 3px 1px rgba(60, 64, 67, 0.15);\n",
              "    fill: #174EA6;\n",
              "  }\n",
              "\n",
              "  [theme=dark] .colab-df-quickchart {\n",
              "    background-color: #3B4455;\n",
              "    fill: #D2E3FC;\n",
              "  }\n",
              "\n",
              "  [theme=dark] .colab-df-quickchart:hover {\n",
              "    background-color: #434B5C;\n",
              "    box-shadow: 0px 1px 3px 1px rgba(0, 0, 0, 0.15);\n",
              "    filter: drop-shadow(0px 1px 2px rgba(0, 0, 0, 0.3));\n",
              "    fill: #FFFFFF;\n",
              "  }\n",
              "</style>\n",
              "\n",
              "    <script>\n",
              "      async function quickchart(key) {\n",
              "        const containerElement = document.querySelector('#' + key);\n",
              "        const charts = await google.colab.kernel.invokeFunction(\n",
              "            'suggestCharts', [key], {});\n",
              "      }\n",
              "    </script>\n",
              "\n",
              "      <script>\n",
              "\n",
              "function displayQuickchartButton(domScope) {\n",
              "  let quickchartButtonEl =\n",
              "    domScope.querySelector('#df-235b65f2-ee03-49ef-8547-452e887b7346 button.colab-df-quickchart');\n",
              "  quickchartButtonEl.style.display =\n",
              "    google.colab.kernel.accessAllowed ? 'block' : 'none';\n",
              "}\n",
              "\n",
              "        displayQuickchartButton(document);\n",
              "      </script>\n",
              "      <style>\n",
              "    .colab-df-container {\n",
              "      display:flex;\n",
              "      flex-wrap:wrap;\n",
              "      gap: 12px;\n",
              "    }\n",
              "\n",
              "    .colab-df-convert {\n",
              "      background-color: #E8F0FE;\n",
              "      border: none;\n",
              "      border-radius: 50%;\n",
              "      cursor: pointer;\n",
              "      display: none;\n",
              "      fill: #1967D2;\n",
              "      height: 32px;\n",
              "      padding: 0 0 0 0;\n",
              "      width: 32px;\n",
              "    }\n",
              "\n",
              "    .colab-df-convert:hover {\n",
              "      background-color: #E2EBFA;\n",
              "      box-shadow: 0px 1px 2px rgba(60, 64, 67, 0.3), 0px 1px 3px 1px rgba(60, 64, 67, 0.15);\n",
              "      fill: #174EA6;\n",
              "    }\n",
              "\n",
              "    [theme=dark] .colab-df-convert {\n",
              "      background-color: #3B4455;\n",
              "      fill: #D2E3FC;\n",
              "    }\n",
              "\n",
              "    [theme=dark] .colab-df-convert:hover {\n",
              "      background-color: #434B5C;\n",
              "      box-shadow: 0px 1px 3px 1px rgba(0, 0, 0, 0.15);\n",
              "      filter: drop-shadow(0px 1px 2px rgba(0, 0, 0, 0.3));\n",
              "      fill: #FFFFFF;\n",
              "    }\n",
              "  </style>\n",
              "\n",
              "      <script>\n",
              "        const buttonEl =\n",
              "          document.querySelector('#df-4fac85bd-1fb2-4380-972d-ff15a0945d76 button.colab-df-convert');\n",
              "        buttonEl.style.display =\n",
              "          google.colab.kernel.accessAllowed ? 'block' : 'none';\n",
              "\n",
              "        async function convertToInteractive(key) {\n",
              "          const element = document.querySelector('#df-4fac85bd-1fb2-4380-972d-ff15a0945d76');\n",
              "          const dataTable =\n",
              "            await google.colab.kernel.invokeFunction('convertToInteractive',\n",
              "                                                     [key], {});\n",
              "          if (!dataTable) return;\n",
              "\n",
              "          const docLinkHtml = 'Like what you see? Visit the ' +\n",
              "            '<a target=\"_blank\" href=https://colab.research.google.com/notebooks/data_table.ipynb>data table notebook</a>'\n",
              "            + ' to learn more about interactive tables.';\n",
              "          element.innerHTML = '';\n",
              "          dataTable['output_type'] = 'display_data';\n",
              "          await google.colab.output.renderOutput(dataTable, element);\n",
              "          const docLink = document.createElement('div');\n",
              "          docLink.innerHTML = docLinkHtml;\n",
              "          element.appendChild(docLink);\n",
              "        }\n",
              "      </script>\n",
              "    </div>\n",
              "  </div>\n"
            ]
          },
          "metadata": {},
          "execution_count": 169
        }
      ]
    },
    {
      "cell_type": "code",
      "source": [
        "data_df = data_df.drop(['Unnamed: 0'], axis = 1)"
      ],
      "metadata": {
        "id": "cotRTvIlb41I"
      },
      "execution_count": null,
      "outputs": []
    },
    {
      "cell_type": "code",
      "source": [
        "data_df.describe()"
      ],
      "metadata": {
        "colab": {
          "base_uri": "https://localhost:8080/",
          "height": 300
        },
        "id": "zloTkdvib43O",
        "outputId": "59377c9d-7d72-4e75-a6f4-56c5a94b96f7"
      },
      "execution_count": null,
      "outputs": [
        {
          "output_type": "execute_result",
          "data": {
            "text/plain": [
              "              carat         depth         table         price             x  \\\n",
              "count  53940.000000  53940.000000  53940.000000  53940.000000  53940.000000   \n",
              "mean       0.797940     61.749405     57.457184   3932.799722      5.731157   \n",
              "std        0.474011      1.432621      2.234491   3989.439738      1.121761   \n",
              "min        0.200000     43.000000     43.000000    326.000000      0.000000   \n",
              "25%        0.400000     61.000000     56.000000    950.000000      4.710000   \n",
              "50%        0.700000     61.800000     57.000000   2401.000000      5.700000   \n",
              "75%        1.040000     62.500000     59.000000   5324.250000      6.540000   \n",
              "max        5.010000     79.000000     95.000000  18823.000000     10.740000   \n",
              "\n",
              "                  y             z  \n",
              "count  53940.000000  53940.000000  \n",
              "mean       5.734526      3.538734  \n",
              "std        1.142135      0.705699  \n",
              "min        0.000000      0.000000  \n",
              "25%        4.720000      2.910000  \n",
              "50%        5.710000      3.530000  \n",
              "75%        6.540000      4.040000  \n",
              "max       58.900000     31.800000  "
            ],
            "text/html": [
              "\n",
              "\n",
              "  <div id=\"df-96d2f9cb-b477-4c4c-b919-b96040c90e59\">\n",
              "    <div class=\"colab-df-container\">\n",
              "      <div>\n",
              "<style scoped>\n",
              "    .dataframe tbody tr th:only-of-type {\n",
              "        vertical-align: middle;\n",
              "    }\n",
              "\n",
              "    .dataframe tbody tr th {\n",
              "        vertical-align: top;\n",
              "    }\n",
              "\n",
              "    .dataframe thead th {\n",
              "        text-align: right;\n",
              "    }\n",
              "</style>\n",
              "<table border=\"1\" class=\"dataframe\">\n",
              "  <thead>\n",
              "    <tr style=\"text-align: right;\">\n",
              "      <th></th>\n",
              "      <th>carat</th>\n",
              "      <th>depth</th>\n",
              "      <th>table</th>\n",
              "      <th>price</th>\n",
              "      <th>x</th>\n",
              "      <th>y</th>\n",
              "      <th>z</th>\n",
              "    </tr>\n",
              "  </thead>\n",
              "  <tbody>\n",
              "    <tr>\n",
              "      <th>count</th>\n",
              "      <td>53940.000000</td>\n",
              "      <td>53940.000000</td>\n",
              "      <td>53940.000000</td>\n",
              "      <td>53940.000000</td>\n",
              "      <td>53940.000000</td>\n",
              "      <td>53940.000000</td>\n",
              "      <td>53940.000000</td>\n",
              "    </tr>\n",
              "    <tr>\n",
              "      <th>mean</th>\n",
              "      <td>0.797940</td>\n",
              "      <td>61.749405</td>\n",
              "      <td>57.457184</td>\n",
              "      <td>3932.799722</td>\n",
              "      <td>5.731157</td>\n",
              "      <td>5.734526</td>\n",
              "      <td>3.538734</td>\n",
              "    </tr>\n",
              "    <tr>\n",
              "      <th>std</th>\n",
              "      <td>0.474011</td>\n",
              "      <td>1.432621</td>\n",
              "      <td>2.234491</td>\n",
              "      <td>3989.439738</td>\n",
              "      <td>1.121761</td>\n",
              "      <td>1.142135</td>\n",
              "      <td>0.705699</td>\n",
              "    </tr>\n",
              "    <tr>\n",
              "      <th>min</th>\n",
              "      <td>0.200000</td>\n",
              "      <td>43.000000</td>\n",
              "      <td>43.000000</td>\n",
              "      <td>326.000000</td>\n",
              "      <td>0.000000</td>\n",
              "      <td>0.000000</td>\n",
              "      <td>0.000000</td>\n",
              "    </tr>\n",
              "    <tr>\n",
              "      <th>25%</th>\n",
              "      <td>0.400000</td>\n",
              "      <td>61.000000</td>\n",
              "      <td>56.000000</td>\n",
              "      <td>950.000000</td>\n",
              "      <td>4.710000</td>\n",
              "      <td>4.720000</td>\n",
              "      <td>2.910000</td>\n",
              "    </tr>\n",
              "    <tr>\n",
              "      <th>50%</th>\n",
              "      <td>0.700000</td>\n",
              "      <td>61.800000</td>\n",
              "      <td>57.000000</td>\n",
              "      <td>2401.000000</td>\n",
              "      <td>5.700000</td>\n",
              "      <td>5.710000</td>\n",
              "      <td>3.530000</td>\n",
              "    </tr>\n",
              "    <tr>\n",
              "      <th>75%</th>\n",
              "      <td>1.040000</td>\n",
              "      <td>62.500000</td>\n",
              "      <td>59.000000</td>\n",
              "      <td>5324.250000</td>\n",
              "      <td>6.540000</td>\n",
              "      <td>6.540000</td>\n",
              "      <td>4.040000</td>\n",
              "    </tr>\n",
              "    <tr>\n",
              "      <th>max</th>\n",
              "      <td>5.010000</td>\n",
              "      <td>79.000000</td>\n",
              "      <td>95.000000</td>\n",
              "      <td>18823.000000</td>\n",
              "      <td>10.740000</td>\n",
              "      <td>58.900000</td>\n",
              "      <td>31.800000</td>\n",
              "    </tr>\n",
              "  </tbody>\n",
              "</table>\n",
              "</div>\n",
              "      <button class=\"colab-df-convert\" onclick=\"convertToInteractive('df-96d2f9cb-b477-4c4c-b919-b96040c90e59')\"\n",
              "              title=\"Convert this dataframe to an interactive table.\"\n",
              "              style=\"display:none;\">\n",
              "\n",
              "  <svg xmlns=\"http://www.w3.org/2000/svg\" height=\"24px\"viewBox=\"0 0 24 24\"\n",
              "       width=\"24px\">\n",
              "    <path d=\"M0 0h24v24H0V0z\" fill=\"none\"/>\n",
              "    <path d=\"M18.56 5.44l.94 2.06.94-2.06 2.06-.94-2.06-.94-.94-2.06-.94 2.06-2.06.94zm-11 1L8.5 8.5l.94-2.06 2.06-.94-2.06-.94L8.5 2.5l-.94 2.06-2.06.94zm10 10l.94 2.06.94-2.06 2.06-.94-2.06-.94-.94-2.06-.94 2.06-2.06.94z\"/><path d=\"M17.41 7.96l-1.37-1.37c-.4-.4-.92-.59-1.43-.59-.52 0-1.04.2-1.43.59L10.3 9.45l-7.72 7.72c-.78.78-.78 2.05 0 2.83L4 21.41c.39.39.9.59 1.41.59.51 0 1.02-.2 1.41-.59l7.78-7.78 2.81-2.81c.8-.78.8-2.07 0-2.86zM5.41 20L4 18.59l7.72-7.72 1.47 1.35L5.41 20z\"/>\n",
              "  </svg>\n",
              "      </button>\n",
              "\n",
              "\n",
              "\n",
              "    <div id=\"df-726c8644-3836-4919-a3ca-3547a3cf22d3\">\n",
              "      <button class=\"colab-df-quickchart\" onclick=\"quickchart('df-726c8644-3836-4919-a3ca-3547a3cf22d3')\"\n",
              "              title=\"Suggest charts.\"\n",
              "              style=\"display:none;\">\n",
              "\n",
              "<svg xmlns=\"http://www.w3.org/2000/svg\" height=\"24px\"viewBox=\"0 0 24 24\"\n",
              "     width=\"24px\">\n",
              "    <g>\n",
              "        <path d=\"M19 3H5c-1.1 0-2 .9-2 2v14c0 1.1.9 2 2 2h14c1.1 0 2-.9 2-2V5c0-1.1-.9-2-2-2zM9 17H7v-7h2v7zm4 0h-2V7h2v10zm4 0h-2v-4h2v4z\"/>\n",
              "    </g>\n",
              "</svg>\n",
              "      </button>\n",
              "    </div>\n",
              "\n",
              "<style>\n",
              "  .colab-df-quickchart {\n",
              "    background-color: #E8F0FE;\n",
              "    border: none;\n",
              "    border-radius: 50%;\n",
              "    cursor: pointer;\n",
              "    display: none;\n",
              "    fill: #1967D2;\n",
              "    height: 32px;\n",
              "    padding: 0 0 0 0;\n",
              "    width: 32px;\n",
              "  }\n",
              "\n",
              "  .colab-df-quickchart:hover {\n",
              "    background-color: #E2EBFA;\n",
              "    box-shadow: 0px 1px 2px rgba(60, 64, 67, 0.3), 0px 1px 3px 1px rgba(60, 64, 67, 0.15);\n",
              "    fill: #174EA6;\n",
              "  }\n",
              "\n",
              "  [theme=dark] .colab-df-quickchart {\n",
              "    background-color: #3B4455;\n",
              "    fill: #D2E3FC;\n",
              "  }\n",
              "\n",
              "  [theme=dark] .colab-df-quickchart:hover {\n",
              "    background-color: #434B5C;\n",
              "    box-shadow: 0px 1px 3px 1px rgba(0, 0, 0, 0.15);\n",
              "    filter: drop-shadow(0px 1px 2px rgba(0, 0, 0, 0.3));\n",
              "    fill: #FFFFFF;\n",
              "  }\n",
              "</style>\n",
              "\n",
              "    <script>\n",
              "      async function quickchart(key) {\n",
              "        const containerElement = document.querySelector('#' + key);\n",
              "        const charts = await google.colab.kernel.invokeFunction(\n",
              "            'suggestCharts', [key], {});\n",
              "      }\n",
              "    </script>\n",
              "\n",
              "      <script>\n",
              "\n",
              "function displayQuickchartButton(domScope) {\n",
              "  let quickchartButtonEl =\n",
              "    domScope.querySelector('#df-726c8644-3836-4919-a3ca-3547a3cf22d3 button.colab-df-quickchart');\n",
              "  quickchartButtonEl.style.display =\n",
              "    google.colab.kernel.accessAllowed ? 'block' : 'none';\n",
              "}\n",
              "\n",
              "        displayQuickchartButton(document);\n",
              "      </script>\n",
              "      <style>\n",
              "    .colab-df-container {\n",
              "      display:flex;\n",
              "      flex-wrap:wrap;\n",
              "      gap: 12px;\n",
              "    }\n",
              "\n",
              "    .colab-df-convert {\n",
              "      background-color: #E8F0FE;\n",
              "      border: none;\n",
              "      border-radius: 50%;\n",
              "      cursor: pointer;\n",
              "      display: none;\n",
              "      fill: #1967D2;\n",
              "      height: 32px;\n",
              "      padding: 0 0 0 0;\n",
              "      width: 32px;\n",
              "    }\n",
              "\n",
              "    .colab-df-convert:hover {\n",
              "      background-color: #E2EBFA;\n",
              "      box-shadow: 0px 1px 2px rgba(60, 64, 67, 0.3), 0px 1px 3px 1px rgba(60, 64, 67, 0.15);\n",
              "      fill: #174EA6;\n",
              "    }\n",
              "\n",
              "    [theme=dark] .colab-df-convert {\n",
              "      background-color: #3B4455;\n",
              "      fill: #D2E3FC;\n",
              "    }\n",
              "\n",
              "    [theme=dark] .colab-df-convert:hover {\n",
              "      background-color: #434B5C;\n",
              "      box-shadow: 0px 1px 3px 1px rgba(0, 0, 0, 0.15);\n",
              "      filter: drop-shadow(0px 1px 2px rgba(0, 0, 0, 0.3));\n",
              "      fill: #FFFFFF;\n",
              "    }\n",
              "  </style>\n",
              "\n",
              "      <script>\n",
              "        const buttonEl =\n",
              "          document.querySelector('#df-96d2f9cb-b477-4c4c-b919-b96040c90e59 button.colab-df-convert');\n",
              "        buttonEl.style.display =\n",
              "          google.colab.kernel.accessAllowed ? 'block' : 'none';\n",
              "\n",
              "        async function convertToInteractive(key) {\n",
              "          const element = document.querySelector('#df-96d2f9cb-b477-4c4c-b919-b96040c90e59');\n",
              "          const dataTable =\n",
              "            await google.colab.kernel.invokeFunction('convertToInteractive',\n",
              "                                                     [key], {});\n",
              "          if (!dataTable) return;\n",
              "\n",
              "          const docLinkHtml = 'Like what you see? Visit the ' +\n",
              "            '<a target=\"_blank\" href=https://colab.research.google.com/notebooks/data_table.ipynb>data table notebook</a>'\n",
              "            + ' to learn more about interactive tables.';\n",
              "          element.innerHTML = '';\n",
              "          dataTable['output_type'] = 'display_data';\n",
              "          await google.colab.output.renderOutput(dataTable, element);\n",
              "          const docLink = document.createElement('div');\n",
              "          docLink.innerHTML = docLinkHtml;\n",
              "          element.appendChild(docLink);\n",
              "        }\n",
              "      </script>\n",
              "    </div>\n",
              "  </div>\n"
            ]
          },
          "metadata": {},
          "execution_count": 171
        }
      ]
    },
    {
      "cell_type": "code",
      "source": [
        "from matplotlib import pyplot as plt\n",
        "data_df.hist(figsize=(20,15))"
      ],
      "metadata": {
        "colab": {
          "base_uri": "https://localhost:8080/",
          "height": 959
        },
        "id": "EtUlQU4wb46P",
        "outputId": "a4add258-4ab0-41dc-d285-7397fccaa3ee"
      },
      "execution_count": null,
      "outputs": [
        {
          "output_type": "execute_result",
          "data": {
            "text/plain": [
              "array([[<Axes: title={'center': 'carat'}>,\n",
              "        <Axes: title={'center': 'depth'}>,\n",
              "        <Axes: title={'center': 'table'}>],\n",
              "       [<Axes: title={'center': 'price'}>, <Axes: title={'center': 'x'}>,\n",
              "        <Axes: title={'center': 'y'}>],\n",
              "       [<Axes: title={'center': 'z'}>, <Axes: >, <Axes: >]], dtype=object)"
            ]
          },
          "metadata": {},
          "execution_count": 172
        },
        {
          "output_type": "display_data",
          "data": {
            "text/plain": [
              "<Figure size 2000x1500 with 9 Axes>"
            ],
            "image/png": "[encoded data removed]"
          },
          "metadata": {}
        }
      ]
    },
    {
      "cell_type": "code",
      "source": [
        "from pandas.plotting import scatter_matrix\n",
        "\n",
        "scatter_matrix(data_df, figsize=(12,10));"
      ],
      "metadata": {
        "colab": {
          "base_uri": "https://localhost:8080/",
          "height": 871
        },
        "id": "_xuf_WsRb5Ag",
        "outputId": "8638c86b-7a4a-4aa9-b2d4-c06d16bcc014"
      },
      "execution_count": null,
      "outputs": [
        {
          "output_type": "display_data",
          "data": {
            "text/plain": [
              "<Figure size 1200x1000 with 49 Axes>"
            ],
            "image/png": "[encoded data removed]"
          },
          "metadata": {}
        }
      ]
    },
    {
      "cell_type": "code",
      "source": [
        "color_mapping = {'J': 0, 'I': 1, 'H': 2, 'G': 3, 'F': 4, 'E': 5, 'D': 6}\n",
        "data_df.color = data_df.color.map(color_mapping)"
      ],
      "metadata": {
        "id": "SiyF8yHNb5B0"
      },
      "execution_count": null,
      "outputs": []
    },
    {
      "cell_type": "code",
      "source": [
        "# Encoding the ordinal cateogircal variable 'clarity'\n",
        "clarity_mapping = {'I1': 0, 'SI2': 1, 'SI1': 2, 'VS2': 3, 'VS1': 4, 'VVS2': 5, 'VVS1': 6, 'IF': 7}\n",
        "data_df.clarity = data_df.clarity.map(clarity_mapping)"
      ],
      "metadata": {
        "id": "PIGDx2uFb5F5"
      },
      "execution_count": null,
      "outputs": []
    },
    {
      "cell_type": "code",
      "source": [
        "# Encode the ordinal categorical variable 'cut'\n",
        "cut_mapping = {'Fair': 0, 'Good': 1, 'Very Good': 2, 'Premium': 3, 'Ideal': 4}\n",
        "data_df.cut = data_df.cut.map(cut_mapping)"
      ],
      "metadata": {
        "id": "_eDJhSA5b5Hc"
      },
      "execution_count": null,
      "outputs": []
    },
    {
      "cell_type": "code",
      "source": [
        "data_df.describe()"
      ],
      "metadata": {
        "colab": {
          "base_uri": "https://localhost:8080/",
          "height": 344
        },
        "id": "77OG0q26b5Rt",
        "outputId": "01e9c566-7c78-482f-c8fb-98076d17c666"
      },
      "execution_count": null,
      "outputs": [
        {
          "output_type": "execute_result",
          "data": {
            "text/plain": [
              "              carat           cut         color       clarity         depth  \\\n",
              "count  53940.000000  53940.000000  53940.000000  53940.000000  53940.000000   \n",
              "mean       0.797940      2.904097      3.405803      3.051020     61.749405   \n",
              "std        0.474011      1.116600      1.701105      1.647136      1.432621   \n",
              "min        0.200000      0.000000      0.000000      0.000000     43.000000   \n",
              "25%        0.400000      2.000000      2.000000      2.000000     61.000000   \n",
              "50%        0.700000      3.000000      3.000000      3.000000     61.800000   \n",
              "75%        1.040000      4.000000      5.000000      4.000000     62.500000   \n",
              "max        5.010000      4.000000      6.000000      7.000000     79.000000   \n",
              "\n",
              "              table         price             x             y             z  \n",
              "count  53940.000000  53940.000000  53940.000000  53940.000000  53940.000000  \n",
              "mean      57.457184   3932.799722      5.731157      5.734526      3.538734  \n",
              "std        2.234491   3989.439738      1.121761      1.142135      0.705699  \n",
              "min       43.000000    326.000000      0.000000      0.000000      0.000000  \n",
              "25%       56.000000    950.000000      4.710000      4.720000      2.910000  \n",
              "50%       57.000000   2401.000000      5.700000      5.710000      3.530000  \n",
              "75%       59.000000   5324.250000      6.540000      6.540000      4.040000  \n",
              "max       95.000000  18823.000000     10.740000     58.900000     31.800000  "
            ],
            "text/html": [
              "\n",
              "\n",
              "  <div id=\"df-317a0fa0-b5f0-4b1e-9201-c363d25eec75\">\n",
              "    <div class=\"colab-df-container\">\n",
              "      <div>\n",
              "<style scoped>\n",
              "    .dataframe tbody tr th:only-of-type {\n",
              "        vertical-align: middle;\n",
              "    }\n",
              "\n",
              "    .dataframe tbody tr th {\n",
              "        vertical-align: top;\n",
              "    }\n",
              "\n",
              "    .dataframe thead th {\n",
              "        text-align: right;\n",
              "    }\n",
              "</style>\n",
              "<table border=\"1\" class=\"dataframe\">\n",
              "  <thead>\n",
              "    <tr style=\"text-align: right;\">\n",
              "      <th></th>\n",
              "      <th>carat</th>\n",
              "      <th>cut</th>\n",
              "      <th>color</th>\n",
              "      <th>clarity</th>\n",
              "      <th>depth</th>\n",
              "      <th>table</th>\n",
              "      <th>price</th>\n",
              "      <th>x</th>\n",
              "      <th>y</th>\n",
              "      <th>z</th>\n",
              "    </tr>\n",
              "  </thead>\n",
              "  <tbody>\n",
              "    <tr>\n",
              "      <th>count</th>\n",
              "      <td>53940.000000</td>\n",
              "      <td>53940.000000</td>\n",
              "      <td>53940.000000</td>\n",
              "      <td>53940.000000</td>\n",
              "      <td>53940.000000</td>\n",
              "      <td>53940.000000</td>\n",
              "      <td>53940.000000</td>\n",
              "      <td>53940.000000</td>\n",
              "      <td>53940.000000</td>\n",
              "      <td>53940.000000</td>\n",
              "    </tr>\n",
              "    <tr>\n",
              "      <th>mean</th>\n",
              "      <td>0.797940</td>\n",
              "      <td>2.904097</td>\n",
              "      <td>3.405803</td>\n",
              "      <td>3.051020</td>\n",
              "      <td>61.749405</td>\n",
              "      <td>57.457184</td>\n",
              "      <td>3932.799722</td>\n",
              "      <td>5.731157</td>\n",
              "      <td>5.734526</td>\n",
              "      <td>3.538734</td>\n",
              "    </tr>\n",
              "    <tr>\n",
              "      <th>std</th>\n",
              "      <td>0.474011</td>\n",
              "      <td>1.116600</td>\n",
              "      <td>1.701105</td>\n",
              "      <td>1.647136</td>\n",
              "      <td>1.432621</td>\n",
              "      <td>2.234491</td>\n",
              "      <td>3989.439738</td>\n",
              "      <td>1.121761</td>\n",
              "      <td>1.142135</td>\n",
              "      <td>0.705699</td>\n",
              "    </tr>\n",
              "    <tr>\n",
              "      <th>min</th>\n",
              "      <td>0.200000</td>\n",
              "      <td>0.000000</td>\n",
              "      <td>0.000000</td>\n",
              "      <td>0.000000</td>\n",
              "      <td>43.000000</td>\n",
              "      <td>43.000000</td>\n",
              "      <td>326.000000</td>\n",
              "      <td>0.000000</td>\n",
              "      <td>0.000000</td>\n",
              "      <td>0.000000</td>\n",
              "    </tr>\n",
              "    <tr>\n",
              "      <th>25%</th>\n",
              "      <td>0.400000</td>\n",
              "      <td>2.000000</td>\n",
              "      <td>2.000000</td>\n",
              "      <td>2.000000</td>\n",
              "      <td>61.000000</td>\n",
              "      <td>56.000000</td>\n",
              "      <td>950.000000</td>\n",
              "      <td>4.710000</td>\n",
              "      <td>4.720000</td>\n",
              "      <td>2.910000</td>\n",
              "    </tr>\n",
              "    <tr>\n",
              "      <th>50%</th>\n",
              "      <td>0.700000</td>\n",
              "      <td>3.000000</td>\n",
              "      <td>3.000000</td>\n",
              "      <td>3.000000</td>\n",
              "      <td>61.800000</td>\n",
              "      <td>57.000000</td>\n",
              "      <td>2401.000000</td>\n",
              "      <td>5.700000</td>\n",
              "      <td>5.710000</td>\n",
              "      <td>3.530000</td>\n",
              "    </tr>\n",
              "    <tr>\n",
              "      <th>75%</th>\n",
              "      <td>1.040000</td>\n",
              "      <td>4.000000</td>\n",
              "      <td>5.000000</td>\n",
              "      <td>4.000000</td>\n",
              "      <td>62.500000</td>\n",
              "      <td>59.000000</td>\n",
              "      <td>5324.250000</td>\n",
              "      <td>6.540000</td>\n",
              "      <td>6.540000</td>\n",
              "      <td>4.040000</td>\n",
              "    </tr>\n",
              "    <tr>\n",
              "      <th>max</th>\n",
              "      <td>5.010000</td>\n",
              "      <td>4.000000</td>\n",
              "      <td>6.000000</td>\n",
              "      <td>7.000000</td>\n",
              "      <td>79.000000</td>\n",
              "      <td>95.000000</td>\n",
              "      <td>18823.000000</td>\n",
              "      <td>10.740000</td>\n",
              "      <td>58.900000</td>\n",
              "      <td>31.800000</td>\n",
              "    </tr>\n",
              "  </tbody>\n",
              "</table>\n",
              "</div>\n",
              "      <button class=\"colab-df-convert\" onclick=\"convertToInteractive('df-317a0fa0-b5f0-4b1e-9201-c363d25eec75')\"\n",
              "              title=\"Convert this dataframe to an interactive table.\"\n",
              "              style=\"display:none;\">\n",
              "\n",
              "  <svg xmlns=\"http://www.w3.org/2000/svg\" height=\"24px\"viewBox=\"0 0 24 24\"\n",
              "       width=\"24px\">\n",
              "    <path d=\"M0 0h24v24H0V0z\" fill=\"none\"/>\n",
              "    <path d=\"M18.56 5.44l.94 2.06.94-2.06 2.06-.94-2.06-.94-.94-2.06-.94 2.06-2.06.94zm-11 1L8.5 8.5l.94-2.06 2.06-.94-2.06-.94L8.5 2.5l-.94 2.06-2.06.94zm10 10l.94 2.06.94-2.06 2.06-.94-2.06-.94-.94-2.06-.94 2.06-2.06.94z\"/><path d=\"M17.41 7.96l-1.37-1.37c-.4-.4-.92-.59-1.43-.59-.52 0-1.04.2-1.43.59L10.3 9.45l-7.72 7.72c-.78.78-.78 2.05 0 2.83L4 21.41c.39.39.9.59 1.41.59.51 0 1.02-.2 1.41-.59l7.78-7.78 2.81-2.81c.8-.78.8-2.07 0-2.86zM5.41 20L4 18.59l7.72-7.72 1.47 1.35L5.41 20z\"/>\n",
              "  </svg>\n",
              "      </button>\n",
              "\n",
              "\n",
              "\n",
              "    <div id=\"df-4cc58b84-bb6d-400d-921d-6e17782e3904\">\n",
              "      <button class=\"colab-df-quickchart\" onclick=\"quickchart('df-4cc58b84-bb6d-400d-921d-6e17782e3904')\"\n",
              "              title=\"Suggest charts.\"\n",
              "              style=\"display:none;\">\n",
              "\n",
              "<svg xmlns=\"http://www.w3.org/2000/svg\" height=\"24px\"viewBox=\"0 0 24 24\"\n",
              "     width=\"24px\">\n",
              "    <g>\n",
              "        <path d=\"M19 3H5c-1.1 0-2 .9-2 2v14c0 1.1.9 2 2 2h14c1.1 0 2-.9 2-2V5c0-1.1-.9-2-2-2zM9 17H7v-7h2v7zm4 0h-2V7h2v10zm4 0h-2v-4h2v4z\"/>\n",
              "    </g>\n",
              "</svg>\n",
              "      </button>\n",
              "    </div>\n",
              "\n",
              "<style>\n",
              "  .colab-df-quickchart {\n",
              "    background-color: #E8F0FE;\n",
              "    border: none;\n",
              "    border-radius: 50%;\n",
              "    cursor: pointer;\n",
              "    display: none;\n",
              "    fill: #1967D2;\n",
              "    height: 32px;\n",
              "    padding: 0 0 0 0;\n",
              "    width: 32px;\n",
              "  }\n",
              "\n",
              "  .colab-df-quickchart:hover {\n",
              "    background-color: #E2EBFA;\n",
              "    box-shadow: 0px 1px 2px rgba(60, 64, 67, 0.3), 0px 1px 3px 1px rgba(60, 64, 67, 0.15);\n",
              "    fill: #174EA6;\n",
              "  }\n",
              "\n",
              "  [theme=dark] .colab-df-quickchart {\n",
              "    background-color: #3B4455;\n",
              "    fill: #D2E3FC;\n",
              "  }\n",
              "\n",
              "  [theme=dark] .colab-df-quickchart:hover {\n",
              "    background-color: #434B5C;\n",
              "    box-shadow: 0px 1px 3px 1px rgba(0, 0, 0, 0.15);\n",
              "    filter: drop-shadow(0px 1px 2px rgba(0, 0, 0, 0.3));\n",
              "    fill: #FFFFFF;\n",
              "  }\n",
              "</style>\n",
              "\n",
              "    <script>\n",
              "      async function quickchart(key) {\n",
              "        const containerElement = document.querySelector('#' + key);\n",
              "        const charts = await google.colab.kernel.invokeFunction(\n",
              "            'suggestCharts', [key], {});\n",
              "      }\n",
              "    </script>\n",
              "\n",
              "      <script>\n",
              "\n",
              "function displayQuickchartButton(domScope) {\n",
              "  let quickchartButtonEl =\n",
              "    domScope.querySelector('#df-4cc58b84-bb6d-400d-921d-6e17782e3904 button.colab-df-quickchart');\n",
              "  quickchartButtonEl.style.display =\n",
              "    google.colab.kernel.accessAllowed ? 'block' : 'none';\n",
              "}\n",
              "\n",
              "        displayQuickchartButton(document);\n",
              "      </script>\n",
              "      <style>\n",
              "    .colab-df-container {\n",
              "      display:flex;\n",
              "      flex-wrap:wrap;\n",
              "      gap: 12px;\n",
              "    }\n",
              "\n",
              "    .colab-df-convert {\n",
              "      background-color: #E8F0FE;\n",
              "      border: none;\n",
              "      border-radius: 50%;\n",
              "      cursor: pointer;\n",
              "      display: none;\n",
              "      fill: #1967D2;\n",
              "      height: 32px;\n",
              "      padding: 0 0 0 0;\n",
              "      width: 32px;\n",
              "    }\n",
              "\n",
              "    .colab-df-convert:hover {\n",
              "      background-color: #E2EBFA;\n",
              "      box-shadow: 0px 1px 2px rgba(60, 64, 67, 0.3), 0px 1px 3px 1px rgba(60, 64, 67, 0.15);\n",
              "      fill: #174EA6;\n",
              "    }\n",
              "\n",
              "    [theme=dark] .colab-df-convert {\n",
              "      background-color: #3B4455;\n",
              "      fill: #D2E3FC;\n",
              "    }\n",
              "\n",
              "    [theme=dark] .colab-df-convert:hover {\n",
              "      background-color: #434B5C;\n",
              "      box-shadow: 0px 1px 3px 1px rgba(0, 0, 0, 0.15);\n",
              "      filter: drop-shadow(0px 1px 2px rgba(0, 0, 0, 0.3));\n",
              "      fill: #FFFFFF;\n",
              "    }\n",
              "  </style>\n",
              "\n",
              "      <script>\n",
              "        const buttonEl =\n",
              "          document.querySelector('#df-317a0fa0-b5f0-4b1e-9201-c363d25eec75 button.colab-df-convert');\n",
              "        buttonEl.style.display =\n",
              "          google.colab.kernel.accessAllowed ? 'block' : 'none';\n",
              "\n",
              "        async function convertToInteractive(key) {\n",
              "          const element = document.querySelector('#df-317a0fa0-b5f0-4b1e-9201-c363d25eec75');\n",
              "          const dataTable =\n",
              "            await google.colab.kernel.invokeFunction('convertToInteractive',\n",
              "                                                     [key], {});\n",
              "          if (!dataTable) return;\n",
              "\n",
              "          const docLinkHtml = 'Like what you see? Visit the ' +\n",
              "            '<a target=\"_blank\" href=https://colab.research.google.com/notebooks/data_table.ipynb>data table notebook</a>'\n",
              "            + ' to learn more about interactive tables.';\n",
              "          element.innerHTML = '';\n",
              "          dataTable['output_type'] = 'display_data';\n",
              "          await google.colab.output.renderOutput(dataTable, element);\n",
              "          const docLink = document.createElement('div');\n",
              "          docLink.innerHTML = docLinkHtml;\n",
              "          element.appendChild(docLink);\n",
              "        }\n",
              "      </script>\n",
              "    </div>\n",
              "  </div>\n"
            ]
          },
          "metadata": {},
          "execution_count": 177
        }
      ]
    },
    {
      "cell_type": "code",
      "source": [
        "data_df = data_df.drop(data_df[data_df[\"x\"]==0].index)\n",
        "data_df = data_df.drop(data_df[data_df[\"y\"]==0].index)\n",
        "data_df = data_df.drop(data_df[data_df[\"z\"]==0].index)"
      ],
      "metadata": {
        "id": "nnEJD9Z9e5h8"
      },
      "execution_count": null,
      "outputs": []
    },
    {
      "cell_type": "code",
      "source": [
        "#Loại bỏ 1% giá trị lớn hơn phân vị 99%\n",
        "data_df = data_df[data_df['depth'] < data_df['depth'].quantile(0.99)]\n",
        "data_df = data_df[data_df['table'] < data_df['table'].quantile(0.99)]\n",
        "data_df = data_df[data_df['x'] < data_df['x'].quantile(0.99)]\n",
        "data_df = data_df[data_df['y'] < data_df['y'].quantile(0.99)]\n",
        "data_df = data_df[data_df['z'] < data_df['z'].quantile(0.99)]"
      ],
      "metadata": {
        "id": "BjbUVaeje5nM"
      },
      "execution_count": null,
      "outputs": []
    },
    {
      "cell_type": "code",
      "source": [
        "data_df.head(10)"
      ],
      "metadata": {
        "colab": {
          "base_uri": "https://localhost:8080/",
          "height": 363
        },
        "id": "R0pVlWZ1e5oq",
        "outputId": "22202b5e-e354-4c08-a069-2aafcf61c848"
      },
      "execution_count": null,
      "outputs": [
        {
          "output_type": "execute_result",
          "data": {
            "text/plain": [
              "    carat  cut  color  clarity  depth  table  price     x     y     z\n",
              "0    0.23    4      5        1   61.5   55.0    326  3.95  3.98  2.43\n",
              "1    0.21    3      5        2   59.8   61.0    326  3.89  3.84  2.31\n",
              "3    0.29    3      1        3   62.4   58.0    334  4.20  4.23  2.63\n",
              "4    0.31    1      0        1   63.3   58.0    335  4.34  4.35  2.75\n",
              "5    0.24    2      0        5   62.8   57.0    336  3.94  3.96  2.48\n",
              "6    0.24    2      1        6   62.3   57.0    336  3.95  3.98  2.47\n",
              "7    0.26    2      2        2   61.9   55.0    337  4.07  4.11  2.53\n",
              "8    0.22    0      5        3   65.1   61.0    337  3.87  3.78  2.49\n",
              "9    0.23    2      2        4   59.4   61.0    338  4.00  4.05  2.39\n",
              "10   0.30    1      0        2   64.0   55.0    339  4.25  4.28  2.73"
            ],
            "text/html": [
              "\n",
              "\n",
              "  <div id=\"df-5ac66754-ec6a-4abb-aa27-9fef29944d58\">\n",
              "    <div class=\"colab-df-container\">\n",
              "      <div>\n",
              "<style scoped>\n",
              "    .dataframe tbody tr th:only-of-type {\n",
              "        vertical-align: middle;\n",
              "    }\n",
              "\n",
              "    .dataframe tbody tr th {\n",
              "        vertical-align: top;\n",
              "    }\n",
              "\n",
              "    .dataframe thead th {\n",
              "        text-align: right;\n",
              "    }\n",
              "</style>\n",
              "<table border=\"1\" class=\"dataframe\">\n",
              "  <thead>\n",
              "    <tr style=\"text-align: right;\">\n",
              "      <th></th>\n",
              "      <th>carat</th>\n",
              "      <th>cut</th>\n",
              "      <th>color</th>\n",
              "      <th>clarity</th>\n",
              "      <th>depth</th>\n",
              "      <th>table</th>\n",
              "      <th>price</th>\n",
              "      <th>x</th>\n",
              "      <th>y</th>\n",
              "      <th>z</th>\n",
              "    </tr>\n",
              "  </thead>\n",
              "  <tbody>\n",
              "    <tr>\n",
              "      <th>0</th>\n",
              "      <td>0.23</td>\n",
              "      <td>4</td>\n",
              "      <td>5</td>\n",
              "      <td>1</td>\n",
              "      <td>61.5</td>\n",
              "      <td>55.0</td>\n",
              "      <td>326</td>\n",
              "      <td>3.95</td>\n",
              "      <td>3.98</td>\n",
              "      <td>2.43</td>\n",
              "    </tr>\n",
              "    <tr>\n",
              "      <th>1</th>\n",
              "      <td>0.21</td>\n",
              "      <td>3</td>\n",
              "      <td>5</td>\n",
              "      <td>2</td>\n",
              "      <td>59.8</td>\n",
              "      <td>61.0</td>\n",
              "      <td>326</td>\n",
              "      <td>3.89</td>\n",
              "      <td>3.84</td>\n",
              "      <td>2.31</td>\n",
              "    </tr>\n",
              "    <tr>\n",
              "      <th>3</th>\n",
              "      <td>0.29</td>\n",
              "      <td>3</td>\n",
              "      <td>1</td>\n",
              "      <td>3</td>\n",
              "      <td>62.4</td>\n",
              "      <td>58.0</td>\n",
              "      <td>334</td>\n",
              "      <td>4.20</td>\n",
              "      <td>4.23</td>\n",
              "      <td>2.63</td>\n",
              "    </tr>\n",
              "    <tr>\n",
              "      <th>4</th>\n",
              "      <td>0.31</td>\n",
              "      <td>1</td>\n",
              "      <td>0</td>\n",
              "      <td>1</td>\n",
              "      <td>63.3</td>\n",
              "      <td>58.0</td>\n",
              "      <td>335</td>\n",
              "      <td>4.34</td>\n",
              "      <td>4.35</td>\n",
              "      <td>2.75</td>\n",
              "    </tr>\n",
              "    <tr>\n",
              "      <th>5</th>\n",
              "      <td>0.24</td>\n",
              "      <td>2</td>\n",
              "      <td>0</td>\n",
              "      <td>5</td>\n",
              "      <td>62.8</td>\n",
              "      <td>57.0</td>\n",
              "      <td>336</td>\n",
              "      <td>3.94</td>\n",
              "      <td>3.96</td>\n",
              "      <td>2.48</td>\n",
              "    </tr>\n",
              "    <tr>\n",
              "      <th>6</th>\n",
              "      <td>0.24</td>\n",
              "      <td>2</td>\n",
              "      <td>1</td>\n",
              "      <td>6</td>\n",
              "      <td>62.3</td>\n",
              "      <td>57.0</td>\n",
              "      <td>336</td>\n",
              "      <td>3.95</td>\n",
              "      <td>3.98</td>\n",
              "      <td>2.47</td>\n",
              "    </tr>\n",
              "    <tr>\n",
              "      <th>7</th>\n",
              "      <td>0.26</td>\n",
              "      <td>2</td>\n",
              "      <td>2</td>\n",
              "      <td>2</td>\n",
              "      <td>61.9</td>\n",
              "      <td>55.0</td>\n",
              "      <td>337</td>\n",
              "      <td>4.07</td>\n",
              "      <td>4.11</td>\n",
              "      <td>2.53</td>\n",
              "    </tr>\n",
              "    <tr>\n",
              "      <th>8</th>\n",
              "      <td>0.22</td>\n",
              "      <td>0</td>\n",
              "      <td>5</td>\n",
              "      <td>3</td>\n",
              "      <td>65.1</td>\n",
              "      <td>61.0</td>\n",
              "      <td>337</td>\n",
              "      <td>3.87</td>\n",
              "      <td>3.78</td>\n",
              "      <td>2.49</td>\n",
              "    </tr>\n",
              "    <tr>\n",
              "      <th>9</th>\n",
              "      <td>0.23</td>\n",
              "      <td>2</td>\n",
              "      <td>2</td>\n",
              "      <td>4</td>\n",
              "      <td>59.4</td>\n",
              "      <td>61.0</td>\n",
              "      <td>338</td>\n",
              "      <td>4.00</td>\n",
              "      <td>4.05</td>\n",
              "      <td>2.39</td>\n",
              "    </tr>\n",
              "    <tr>\n",
              "      <th>10</th>\n",
              "      <td>0.30</td>\n",
              "      <td>1</td>\n",
              "      <td>0</td>\n",
              "      <td>2</td>\n",
              "      <td>64.0</td>\n",
              "      <td>55.0</td>\n",
              "      <td>339</td>\n",
              "      <td>4.25</td>\n",
              "      <td>4.28</td>\n",
              "      <td>2.73</td>\n",
              "    </tr>\n",
              "  </tbody>\n",
              "</table>\n",
              "</div>\n",
              "      <button class=\"colab-df-convert\" onclick=\"convertToInteractive('df-5ac66754-ec6a-4abb-aa27-9fef29944d58')\"\n",
              "              title=\"Convert this dataframe to an interactive table.\"\n",
              "              style=\"display:none;\">\n",
              "\n",
              "  <svg xmlns=\"http://www.w3.org/2000/svg\" height=\"24px\"viewBox=\"0 0 24 24\"\n",
              "       width=\"24px\">\n",
              "    <path d=\"M0 0h24v24H0V0z\" fill=\"none\"/>\n",
              "    <path d=\"M18.56 5.44l.94 2.06.94-2.06 2.06-.94-2.06-.94-.94-2.06-.94 2.06-2.06.94zm-11 1L8.5 8.5l.94-2.06 2.06-.94-2.06-.94L8.5 2.5l-.94 2.06-2.06.94zm10 10l.94 2.06.94-2.06 2.06-.94-2.06-.94-.94-2.06-.94 2.06-2.06.94z\"/><path d=\"M17.41 7.96l-1.37-1.37c-.4-.4-.92-.59-1.43-.59-.52 0-1.04.2-1.43.59L10.3 9.45l-7.72 7.72c-.78.78-.78 2.05 0 2.83L4 21.41c.39.39.9.59 1.41.59.51 0 1.02-.2 1.41-.59l7.78-7.78 2.81-2.81c.8-.78.8-2.07 0-2.86zM5.41 20L4 18.59l7.72-7.72 1.47 1.35L5.41 20z\"/>\n",
              "  </svg>\n",
              "      </button>\n",
              "\n",
              "\n",
              "\n",
              "    <div id=\"df-4a56aa04-8448-4da6-b465-834777e811f0\">\n",
              "      <button class=\"colab-df-quickchart\" onclick=\"quickchart('df-4a56aa04-8448-4da6-b465-834777e811f0')\"\n",
              "              title=\"Suggest charts.\"\n",
              "              style=\"display:none;\">\n",
              "\n",
              "<svg xmlns=\"http://www.w3.org/2000/svg\" height=\"24px\"viewBox=\"0 0 24 24\"\n",
              "     width=\"24px\">\n",
              "    <g>\n",
              "        <path d=\"M19 3H5c-1.1 0-2 .9-2 2v14c0 1.1.9 2 2 2h14c1.1 0 2-.9 2-2V5c0-1.1-.9-2-2-2zM9 17H7v-7h2v7zm4 0h-2V7h2v10zm4 0h-2v-4h2v4z\"/>\n",
              "    </g>\n",
              "</svg>\n",
              "      </button>\n",
              "    </div>\n",
              "\n",
              "<style>\n",
              "  .colab-df-quickchart {\n",
              "    background-color: #E8F0FE;\n",
              "    border: none;\n",
              "    border-radius: 50%;\n",
              "    cursor: pointer;\n",
              "    display: none;\n",
              "    fill: #1967D2;\n",
              "    height: 32px;\n",
              "    padding: 0 0 0 0;\n",
              "    width: 32px;\n",
              "  }\n",
              "\n",
              "  .colab-df-quickchart:hover {\n",
              "    background-color: #E2EBFA;\n",
              "    box-shadow: 0px 1px 2px rgba(60, 64, 67, 0.3), 0px 1px 3px 1px rgba(60, 64, 67, 0.15);\n",
              "    fill: #174EA6;\n",
              "  }\n",
              "\n",
              "  [theme=dark] .colab-df-quickchart {\n",
              "    background-color: #3B4455;\n",
              "    fill: #D2E3FC;\n",
              "  }\n",
              "\n",
              "  [theme=dark] .colab-df-quickchart:hover {\n",
              "    background-color: #434B5C;\n",
              "    box-shadow: 0px 1px 3px 1px rgba(0, 0, 0, 0.15);\n",
              "    filter: drop-shadow(0px 1px 2px rgba(0, 0, 0, 0.3));\n",
              "    fill: #FFFFFF;\n",
              "  }\n",
              "</style>\n",
              "\n",
              "    <script>\n",
              "      async function quickchart(key) {\n",
              "        const containerElement = document.querySelector('#' + key);\n",
              "        const charts = await google.colab.kernel.invokeFunction(\n",
              "            'suggestCharts', [key], {});\n",
              "      }\n",
              "    </script>\n",
              "\n",
              "      <script>\n",
              "\n",
              "function displayQuickchartButton(domScope) {\n",
              "  let quickchartButtonEl =\n",
              "    domScope.querySelector('#df-4a56aa04-8448-4da6-b465-834777e811f0 button.colab-df-quickchart');\n",
              "  quickchartButtonEl.style.display =\n",
              "    google.colab.kernel.accessAllowed ? 'block' : 'none';\n",
              "}\n",
              "\n",
              "        displayQuickchartButton(document);\n",
              "      </script>\n",
              "      <style>\n",
              "    .colab-df-container {\n",
              "      display:flex;\n",
              "      flex-wrap:wrap;\n",
              "      gap: 12px;\n",
              "    }\n",
              "\n",
              "    .colab-df-convert {\n",
              "      background-color: #E8F0FE;\n",
              "      border: none;\n",
              "      border-radius: 50%;\n",
              "      cursor: pointer;\n",
              "      display: none;\n",
              "      fill: #1967D2;\n",
              "      height: 32px;\n",
              "      padding: 0 0 0 0;\n",
              "      width: 32px;\n",
              "    }\n",
              "\n",
              "    .colab-df-convert:hover {\n",
              "      background-color: #E2EBFA;\n",
              "      box-shadow: 0px 1px 2px rgba(60, 64, 67, 0.3), 0px 1px 3px 1px rgba(60, 64, 67, 0.15);\n",
              "      fill: #174EA6;\n",
              "    }\n",
              "\n",
              "    [theme=dark] .colab-df-convert {\n",
              "      background-color: #3B4455;\n",
              "      fill: #D2E3FC;\n",
              "    }\n",
              "\n",
              "    [theme=dark] .colab-df-convert:hover {\n",
              "      background-color: #434B5C;\n",
              "      box-shadow: 0px 1px 3px 1px rgba(0, 0, 0, 0.15);\n",
              "      filter: drop-shadow(0px 1px 2px rgba(0, 0, 0, 0.3));\n",
              "      fill: #FFFFFF;\n",
              "    }\n",
              "  </style>\n",
              "\n",
              "      <script>\n",
              "        const buttonEl =\n",
              "          document.querySelector('#df-5ac66754-ec6a-4abb-aa27-9fef29944d58 button.colab-df-convert');\n",
              "        buttonEl.style.display =\n",
              "          google.colab.kernel.accessAllowed ? 'block' : 'none';\n",
              "\n",
              "        async function convertToInteractive(key) {\n",
              "          const element = document.querySelector('#df-5ac66754-ec6a-4abb-aa27-9fef29944d58');\n",
              "          const dataTable =\n",
              "            await google.colab.kernel.invokeFunction('convertToInteractive',\n",
              "                                                     [key], {});\n",
              "          if (!dataTable) return;\n",
              "\n",
              "          const docLinkHtml = 'Like what you see? Visit the ' +\n",
              "            '<a target=\"_blank\" href=https://colab.research.google.com/notebooks/data_table.ipynb>data table notebook</a>'\n",
              "            + ' to learn more about interactive tables.';\n",
              "          element.innerHTML = '';\n",
              "          dataTable['output_type'] = 'display_data';\n",
              "          await google.colab.output.renderOutput(dataTable, element);\n",
              "          const docLink = document.createElement('div');\n",
              "          docLink.innerHTML = docLinkHtml;\n",
              "          element.appendChild(docLink);\n",
              "        }\n",
              "      </script>\n",
              "    </div>\n",
              "  </div>\n"
            ]
          },
          "metadata": {},
          "execution_count": 180
        }
      ]
    },
    {
      "cell_type": "markdown",
      "source": [
        "## Spliting Data"
      ],
      "metadata": {
        "id": "BAZB5Y8wfCjN"
      }
    },
    {
      "cell_type": "code",
      "source": [
        "X = data_df.drop(['price'], axis=1)\n",
        "y = data_df['price']"
      ],
      "metadata": {
        "id": "Uue7bwoae5q1"
      },
      "execution_count": 81,
      "outputs": []
    },
    {
      "cell_type": "code",
      "source": [
        "X_arr = X.to_numpy()\n",
        "y_arr  = y.to_numpy()"
      ],
      "metadata": {
        "id": "lMOVeQALfZsx"
      },
      "execution_count": 83,
      "outputs": []
    },
    {
      "cell_type": "code",
      "source": [
        "print(X_arr.shape)\n",
        "print(y_arr.shape)"
      ],
      "metadata": {
        "colab": {
          "base_uri": "https://localhost:8080/"
        },
        "id": "Zr3xkTZyfZyN",
        "outputId": "7e0a4041-5d6b-449f-c81e-6de8fa05ad70"
      },
      "execution_count": 84,
      "outputs": [
        {
          "output_type": "stream",
          "name": "stdout",
          "text": [
            "(53940, 10)\n",
            "(53940,)\n"
          ]
        }
      ]
    },
    {
      "cell_type": "code",
      "source": [
        "X_train = X_arr[:int(X_arr.shape[0]*0.8)]\n",
        "y_train = y_arr[:int(X_arr.shape[0]*0.8)]\n",
        "X_test = X_arr[int(X_arr.shape[0]*0.8):]\n",
        "y_test = y_arr[int(X_arr.shape[0]*0.8):]"
      ],
      "metadata": {
        "id": "Xbr8ZhrifZzm"
      },
      "execution_count": null,
      "outputs": []
    },
    {
      "cell_type": "code",
      "source": [
        "xmean =  X_train.mean(axis = 0)\n",
        "xstd = X_train.std(axis=0)\n",
        "X_train = (X_train - xmean)/xstd\n",
        "X_test = (X_test -  xmean)/xstd"
      ],
      "metadata": {
        "id": "91wFcjcSfZ1n"
      },
      "execution_count": null,
      "outputs": []
    },
    {
      "cell_type": "code",
      "source": [
        "X_train = np.concatenate((np.ones((X_train.shape[0], 1)), X_train), axis=1)\n",
        "X_test = np.concatenate((np.ones((X_test.shape[0], 1)), X_test), axis=1)"
      ],
      "metadata": {
        "id": "Sy9nK23ZfZ4N"
      },
      "execution_count": null,
      "outputs": []
    },
    {
      "cell_type": "code",
      "source": [
        "print(X_train.shape, y_train.shape, X_test.shape, y_test.shape )"
      ],
      "metadata": {
        "colab": {
          "base_uri": "https://localhost:8080/"
        },
        "id": "VMU_tosHfZ6l",
        "outputId": "30a62eb0-a930-43b3-bd66-93af39b57def"
      },
      "execution_count": null,
      "outputs": [
        {
          "output_type": "stream",
          "name": "stdout",
          "text": [
            "(40904, 10) (40904,) (10226, 10) (10226,)\n"
          ]
        }
      ]
    },
    {
      "cell_type": "code",
      "source": [],
      "metadata": {
        "id": "goQ35ZRPd6uh"
      },
      "execution_count": null,
      "outputs": []
    },
    {
      "cell_type": "markdown",
      "source": [
        "## Training"
      ],
      "metadata": {
        "id": "cIw9q6bXgvSW"
      }
    },
    {
      "cell_type": "code",
      "source": [
        "def generate_random_value_diamond(bound = 100):\n",
        "    return (random.random()*2 - 1)*bound\n",
        "\n",
        "def compute_loss_diamond(individual):\n",
        "    theta = np.array(individual)\n",
        "    y_hat = X_train.dot(theta)\n",
        "    loss = np.multiply((y_hat - y_train), (y_hat - y_train)).mean()\n",
        "    return loss\n",
        "\n",
        "def compute_fitness_diamond(individual):\n",
        "    loss = compute_loss_diamond(individual)\n",
        "    fitness = 1 / (loss + 0.0001)\n",
        "    return fitness\n"
      ],
      "metadata": {
        "id": "Q6Ounsr0e5tP"
      },
      "execution_count": null,
      "outputs": []
    },
    {
      "cell_type": "code",
      "source": [
        "def create_individual_diamond():\n",
        "    return [generate_random_value_diamond() for _ in range(n)] # generate function is same\n",
        "\n",
        "def crossover_diamond(individual1, individual2, crossover_rate = 0.9):\n",
        "    individual1_new = individual1.copy()\n",
        "    individual2_new = individual2.copy()\n",
        "\n",
        "    for i in range(n):\n",
        "        if random.random() < crossover_rate:\n",
        "            individual1_new[i] = individual2[i]\n",
        "            individual2_new[i] = individual1[i]\n",
        "\n",
        "    return individual1_new, individual2_new\n",
        "\n",
        "def mutate_diamond(individual, mutation_rate = 0.05):\n",
        "    individual_m = individual.copy()\n",
        "\n",
        "    for i in range(n):\n",
        "        if random.random() < mutation_rate:\n",
        "            individual_m[i] = generate_random_value_diamond()\n",
        "\n",
        "    return individual_m\n",
        "\n",
        "def selection_diamond(sorted_old_population):\n",
        "    index1 = random.randint(0, m-1)\n",
        "    index2 = random.randint(0, m-1)\n",
        "\n",
        "    while index2 == index1:\n",
        "        index2 = random.randint(0, m-1)\n",
        "\n",
        "    individual_s = sorted_old_population[index1]\n",
        "    if index2 > index1:\n",
        "        individual_s = sorted_old_population[index2]\n",
        "\n",
        "    return individual_s"
      ],
      "metadata": {
        "id": "2sTuAyF0gyLr"
      },
      "execution_count": null,
      "outputs": []
    },
    {
      "cell_type": "code",
      "source": [
        "n = 10                 # size of individual (chromosome)\n",
        "m = 200                # size of population\n",
        "n_generations = 8000   # number of generations\n",
        "losses_diamond = []\n",
        "\n",
        "######################### algorithm  #########################\n",
        "# step 1: create initial population\n",
        "population = [create_individual_diamond() for _ in range(m)]\n",
        "\n",
        "#==== loops\n",
        "elitism = 2\n",
        "for i in range(n_generations):\n",
        "    sorted_population = sorted(population, key=compute_fitness_diamond)\n",
        "\n",
        "    if i % 100 == 0:\n",
        "        losses_diamond.append(compute_loss_diamond(sorted_population[-1]))\n",
        "        print(\"Generation:\", i, \"Best loss:\", losses_diamond[-1])\n",
        "\n",
        "    # create new_population\n",
        "    new_population = sorted_population[-elitism:]\n",
        "\n",
        "    while len(new_population) < m:\n",
        "        # selection\n",
        "        individual_s1 = selection_diamond(sorted_population)\n",
        "        individual_s2 = selection_diamond(sorted_population) # duplication\n",
        "\n",
        "        # crossover\n",
        "        individual_c1, individual_c2 = crossover_diamond(individual_s1, individual_s2)\n",
        "\n",
        "        # mutation\n",
        "        individual_m1 = mutate_diamond(individual_c1)\n",
        "        individual_m2 = mutate_diamond(individual_c2)\n",
        "\n",
        "        new_population.append(individual_m1)\n",
        "        new_population.append(individual_m2)\n",
        "\n",
        "    # update population\n",
        "    population = new_population\n"
      ],
      "metadata": {
        "colab": {
          "base_uri": "https://localhost:8080/"
        },
        "id": "D-ypy4b1gyOR",
        "outputId": "b1d1a5b2-d5cc-4bb8-c707-e4e4fd8e8025"
      },
      "execution_count": null,
      "outputs": [
        {
          "output_type": "stream",
          "name": "stdout",
          "text": [
            "Generation: 0 Best loss: 27794364.57566253\n",
            "Generation: 100 Best loss: 26518987.818994023\n",
            "Generation: 200 Best loss: 26507263.205478508\n",
            "Generation: 300 Best loss: 26502479.76081337\n",
            "Generation: 400 Best loss: 26502391.376128532\n",
            "Generation: 500 Best loss: 26502391.02767612\n",
            "Generation: 600 Best loss: 26500627.078967556\n",
            "Generation: 700 Best loss: 26500097.126097117\n",
            "Generation: 800 Best loss: 26500054.778988\n",
            "Generation: 900 Best loss: 26498765.441942137\n",
            "Generation: 1000 Best loss: 26498734.32668511\n",
            "Generation: 1100 Best loss: 26498354.52476777\n",
            "Generation: 1200 Best loss: 26498354.52476777\n",
            "Generation: 1300 Best loss: 26498354.52476777\n",
            "Generation: 1400 Best loss: 26498240.457493827\n",
            "Generation: 1500 Best loss: 26498240.457493827\n",
            "Generation: 1600 Best loss: 26498239.469751045\n",
            "Generation: 1700 Best loss: 26498239.469751045\n",
            "Generation: 1800 Best loss: 26498239.469751045\n",
            "Generation: 1900 Best loss: 26497968.79114855\n",
            "Generation: 2000 Best loss: 26497968.79114855\n",
            "Generation: 2100 Best loss: 26497968.79114855\n",
            "Generation: 2200 Best loss: 26497968.79114855\n",
            "Generation: 2300 Best loss: 26497939.840322316\n",
            "Generation: 2400 Best loss: 26497939.840322316\n",
            "Generation: 2500 Best loss: 26497939.840322316\n",
            "Generation: 2600 Best loss: 26497672.234330557\n",
            "Generation: 2700 Best loss: 26497628.46619337\n",
            "Generation: 2800 Best loss: 26497628.46619337\n",
            "Generation: 2900 Best loss: 26497628.46619337\n",
            "Generation: 3000 Best loss: 26497628.46619337\n",
            "Generation: 3100 Best loss: 26497628.42239236\n",
            "Generation: 3200 Best loss: 26497628.42239236\n",
            "Generation: 3300 Best loss: 26497628.42239236\n",
            "Generation: 3400 Best loss: 26497628.42239236\n",
            "Generation: 3500 Best loss: 26497628.42239236\n",
            "Generation: 3600 Best loss: 26497628.34069112\n",
            "Generation: 3700 Best loss: 26497628.34069112\n",
            "Generation: 3800 Best loss: 26497624.13980898\n",
            "Generation: 3900 Best loss: 26497612.562911704\n",
            "Generation: 4000 Best loss: 26497612.56264419\n",
            "Generation: 4100 Best loss: 26497590.210877124\n",
            "Generation: 4200 Best loss: 26497590.210877124\n",
            "Generation: 4300 Best loss: 26497590.210877124\n",
            "Generation: 4400 Best loss: 26497590.210877124\n",
            "Generation: 4500 Best loss: 26497590.210877124\n",
            "Generation: 4600 Best loss: 26497590.210877124\n",
            "Generation: 4700 Best loss: 26497590.210877124\n",
            "Generation: 4800 Best loss: 26497590.210877124\n",
            "Generation: 4900 Best loss: 26497590.210877124\n",
            "Generation: 5000 Best loss: 26497590.210877124\n",
            "Generation: 5100 Best loss: 26497590.210877124\n",
            "Generation: 5200 Best loss: 26497590.089357015\n",
            "Generation: 5300 Best loss: 26497590.089357015\n",
            "Generation: 5400 Best loss: 26497590.089357015\n",
            "Generation: 5500 Best loss: 26497590.089357015\n",
            "Generation: 5600 Best loss: 26497590.089357015\n",
            "Generation: 5700 Best loss: 26497590.089357015\n",
            "Generation: 5800 Best loss: 26497590.089357015\n",
            "Generation: 5900 Best loss: 26497590.089357015\n",
            "Generation: 6000 Best loss: 26497590.089357015\n",
            "Generation: 6100 Best loss: 26497590.089357015\n",
            "Generation: 6200 Best loss: 26497590.089357015\n",
            "Generation: 6300 Best loss: 26497590.089357015\n",
            "Generation: 6400 Best loss: 26497590.089357015\n",
            "Generation: 6500 Best loss: 26497590.089357015\n",
            "Generation: 6600 Best loss: 26497590.089357015\n",
            "Generation: 6700 Best loss: 26497590.089357015\n",
            "Generation: 6800 Best loss: 26497590.089357015\n",
            "Generation: 6900 Best loss: 26497590.089357015\n",
            "Generation: 7000 Best loss: 26497590.089238927\n",
            "Generation: 7100 Best loss: 26497590.089238927\n",
            "Generation: 7200 Best loss: 26497590.089238927\n",
            "Generation: 7300 Best loss: 26497590.089238927\n",
            "Generation: 7400 Best loss: 26497590.089238927\n",
            "Generation: 7500 Best loss: 26497590.089238927\n",
            "Generation: 7600 Best loss: 26497590.089238927\n",
            "Generation: 7700 Best loss: 26497536.396379206\n",
            "Generation: 7800 Best loss: 26497536.396379206\n",
            "Generation: 7900 Best loss: 26497536.396379206\n"
          ]
        }
      ]
    },
    {
      "cell_type": "code",
      "source": [
        "best_individual_diamond = sorted_population[-1]\n",
        "print(\"Best individual for Diamond price prediction:\", best_individual_diamond)"
      ],
      "metadata": {
        "colab": {
          "base_uri": "https://localhost:8080/"
        },
        "id": "veCH8a6egyQ2",
        "outputId": "e006f76d-eb16-48ca-b97f-ace777e0e8b1"
      },
      "execution_count": null,
      "outputs": [
        {
          "output_type": "stream",
          "name": "stdout",
          "text": [
            "Best individual for Diamond price prediction: [99.9933393671997, 99.99807257961417, -99.98358868022343, -99.99859835552549, -99.99454518614795, -70.29982217917552, 99.99836044635666, 99.99991045790135, 99.99600796597572, 99.99887393497626]\n"
          ]
        }
      ]
    },
    {
      "cell_type": "code",
      "source": [
        "sorted_population = sorted(population, key=compute_fitness_diamond)\n",
        "print(sorted_population[-1])"
      ],
      "metadata": {
        "colab": {
          "base_uri": "https://localhost:8080/"
        },
        "id": "Eid5xjHPgyTd",
        "outputId": "cec753f1-6b9c-4ed5-ff00-f853318458fe"
      },
      "execution_count": null,
      "outputs": [
        {
          "output_type": "stream",
          "name": "stdout",
          "text": [
            "[99.9933393671997, 99.99807257961417, -99.98358868022343, -99.99859835552549, -99.99454518614795, -70.29982217917552, 99.99836044635666, 99.99991045790135, 99.99600796597572, 99.99887393497626]\n"
          ]
        }
      ]
    },
    {
      "cell_type": "markdown",
      "source": [
        "## Evaluation"
      ],
      "metadata": {
        "id": "Ap85M2Hsk14x"
      }
    },
    {
      "cell_type": "code",
      "source": [
        "import matplotlib.pyplot as plt\n",
        "\n",
        "# Dự đoán giá trị dựa trên trọng số của cá thể tốt nhất và dữ liệu X_test\n",
        "predicted_prices = X_test.dot(np.array(best_individual_diamond))\n",
        "\n",
        "# Vẽ biểu đồ so sánh giá trị dự đoán và giá trị thực tế\n",
        "plt.figure(figsize=(10, 6))\n",
        "plt.scatter(y_test, predicted_prices, c='blue', label='Predicted vs. Actual')\n",
        "plt.plot([y_test.min(), y_test.max()], [y_test.min(), y_test.max()], 'r-')\n",
        "plt.xlabel('Actual Price')\n",
        "plt.ylabel('Predicted Price')\n",
        "plt.title('Predicted vs. Actual Diamond Prices')\n",
        "plt.legend()\n",
        "plt.show()\n"
      ],
      "metadata": {
        "colab": {
          "base_uri": "https://localhost:8080/",
          "height": 564
        },
        "id": "l9nyCvO9gyab",
        "outputId": "542940c0-fbb0-4ecc-d3d8-7c5bceec6b9b"
      },
      "execution_count": null,
      "outputs": [
        {
          "output_type": "display_data",
          "data": {
            "text/plain": [
              "<Figure size 1000x600 with 1 Axes>"
            ],
            "image/png": "[encoded data removed]"
          },
          "metadata": {}
        }
      ]
    },
    {
      "cell_type": "code",
      "source": [
        "# Đánh giá trên tập test\n",
        "li = np.mean((predicted_prices - y_test)*(predicted_prices - y_test))\n",
        "print(f\"MSE: {li}\")\n",
        "\n",
        "li = np.mean(np.abs(predicted_prices - y_test))\n",
        "print(f\"MAE: {li}\")"
      ],
      "metadata": {
        "colab": {
          "base_uri": "https://localhost:8080/"
        },
        "id": "izwrwppXgpbM",
        "outputId": "a5d91c9d-a3d9-40d9-941c-eb7215813b8d"
      },
      "execution_count": null,
      "outputs": [
        {
          "output_type": "stream",
          "name": "stdout",
          "text": [
            "MSE: 4100513.2146003605\n",
            "MAE: 1956.023926236374\n"
          ]
        }
      ]
    },
    {
      "cell_type": "markdown",
      "source": [
        "\n",
        "\n",
        "```\n",
        "Model is underfitted. I will update it soon!\n",
        "```\n",
        "\n"
      ],
      "metadata": {
        "id": "OMeEe4Y3CeEY"
      }
    },
    {
      "cell_type": "code",
      "source": [
        "import matplotlib.pyplot as plt\n",
        "\n",
        "plt.plot(losses_diamond[:20], c='green')\n",
        "plt.xlabel('Generations')\n",
        "plt.ylabel('losses')\n",
        "plt.show()"
      ],
      "metadata": {
        "colab": {
          "base_uri": "https://localhost:8080/",
          "height": 465
        },
        "id": "838f9n_lU3Rl",
        "outputId": "b0f96062-9877-47cd-d102-6c64d65df5b8"
      },
      "execution_count": null,
      "outputs": [
        {
          "output_type": "display_data",
          "data": {
            "text/plain": [
              "<Figure size 640x480 with 1 Axes>"
            ],
            "image/png": "[encoded data removed]"
          },
          "metadata": {}
        }
      ]
    },
    {
      "cell_type": "markdown",
      "source": [
        "# Advertising Sales Prediction"
      ],
      "metadata": {
        "id": "OZMT7j9VouaB"
      }
    },
    {
      "cell_type": "code",
      "source": [
        "import random\n",
        "import numpy as np\n",
        "import pandas as pd\n",
        "import matplotlib.pyplot as plt"
      ],
      "metadata": {
        "id": "GmJtM93Eysju"
      },
      "execution_count": 17,
      "outputs": []
    },
    {
      "cell_type": "markdown",
      "source": [
        "## Load data"
      ],
      "metadata": {
        "id": "yGnIMsggOusR"
      }
    },
    {
      "cell_type": "code",
      "source": [
        "data = pd.read_csv('/content/drive/MyDrive/Colab_Notebooks/AIO main lesson/Linear Regression/advertising.csv',skiprows=1)\n",
        "N = len(data)"
      ],
      "metadata": {
        "id": "kZStsnej7SWT"
      },
      "execution_count": 88,
      "outputs": []
    },
    {
      "cell_type": "code",
      "source": [
        "print(N)"
      ],
      "metadata": {
        "colab": {
          "base_uri": "https://localhost:8080/"
        },
        "id": "pe2jplg67Sar",
        "outputId": "1b688c4a-c2a8-4c92-d097-739aae75ecdf"
      },
      "execution_count": 30,
      "outputs": [
        {
          "output_type": "stream",
          "name": "stdout",
          "text": [
            "199\n"
          ]
        }
      ]
    },
    {
      "cell_type": "code",
      "source": [
        "data"
      ],
      "metadata": {
        "colab": {
          "base_uri": "https://localhost:8080/",
          "height": 423
        },
        "id": "ZEAXCDRT7Scg",
        "outputId": "4116bde1-9099-4f5e-be4a-d06f6761cfb3"
      },
      "execution_count": 89,
      "outputs": [
        {
          "output_type": "execute_result",
          "data": {
            "text/plain": [
              "     230.1  37.8  69.2  22.1\n",
              "0     44.5  39.3  45.1  10.4\n",
              "1     17.2  45.9  69.3  12.0\n",
              "2    151.5  41.3  58.5  16.5\n",
              "3    180.8  10.8  58.4  17.9\n",
              "4      8.7  48.9  75.0   7.2\n",
              "..     ...   ...   ...   ...\n",
              "194   38.2   3.7  13.8   7.6\n",
              "195   94.2   4.9   8.1  14.0\n",
              "196  177.0   9.3   6.4  14.8\n",
              "197  283.6  42.0  66.2  25.5\n",
              "198  232.1   8.6   8.7  18.4\n",
              "\n",
              "[199 rows x 4 columns]"
            ],
            "text/html": [
              "\n",
              "  <div id=\"df-6de3c8f9-1cd3-47b8-8e0c-836537c24d39\" class=\"colab-df-container\">\n",
              "    <div>\n",
              "<style scoped>\n",
              "    .dataframe tbody tr th:only-of-type {\n",
              "        vertical-align: middle;\n",
              "    }\n",
              "\n",
              "    .dataframe tbody tr th {\n",
              "        vertical-align: top;\n",
              "    }\n",
              "\n",
              "    .dataframe thead th {\n",
              "        text-align: right;\n",
              "    }\n",
              "</style>\n",
              "<table border=\"1\" class=\"dataframe\">\n",
              "  <thead>\n",
              "    <tr style=\"text-align: right;\">\n",
              "      <th></th>\n",
              "      <th>230.1</th>\n",
              "      <th>37.8</th>\n",
              "      <th>69.2</th>\n",
              "      <th>22.1</th>\n",
              "    </tr>\n",
              "  </thead>\n",
              "  <tbody>\n",
              "    <tr>\n",
              "      <th>0</th>\n",
              "      <td>44.5</td>\n",
              "      <td>39.3</td>\n",
              "      <td>45.1</td>\n",
              "      <td>10.4</td>\n",
              "    </tr>\n",
              "    <tr>\n",
              "      <th>1</th>\n",
              "      <td>17.2</td>\n",
              "      <td>45.9</td>\n",
              "      <td>69.3</td>\n",
              "      <td>12.0</td>\n",
              "    </tr>\n",
              "    <tr>\n",
              "      <th>2</th>\n",
              "      <td>151.5</td>\n",
              "      <td>41.3</td>\n",
              "      <td>58.5</td>\n",
              "      <td>16.5</td>\n",
              "    </tr>\n",
              "    <tr>\n",
              "      <th>3</th>\n",
              "      <td>180.8</td>\n",
              "      <td>10.8</td>\n",
              "      <td>58.4</td>\n",
              "      <td>17.9</td>\n",
              "    </tr>\n",
              "    <tr>\n",
              "      <th>4</th>\n",
              "      <td>8.7</td>\n",
              "      <td>48.9</td>\n",
              "      <td>75.0</td>\n",
              "      <td>7.2</td>\n",
              "    </tr>\n",
              "    <tr>\n",
              "      <th>...</th>\n",
              "      <td>...</td>\n",
              "      <td>...</td>\n",
              "      <td>...</td>\n",
              "      <td>...</td>\n",
              "    </tr>\n",
              "    <tr>\n",
              "      <th>194</th>\n",
              "      <td>38.2</td>\n",
              "      <td>3.7</td>\n",
              "      <td>13.8</td>\n",
              "      <td>7.6</td>\n",
              "    </tr>\n",
              "    <tr>\n",
              "      <th>195</th>\n",
              "      <td>94.2</td>\n",
              "      <td>4.9</td>\n",
              "      <td>8.1</td>\n",
              "      <td>14.0</td>\n",
              "    </tr>\n",
              "    <tr>\n",
              "      <th>196</th>\n",
              "      <td>177.0</td>\n",
              "      <td>9.3</td>\n",
              "      <td>6.4</td>\n",
              "      <td>14.8</td>\n",
              "    </tr>\n",
              "    <tr>\n",
              "      <th>197</th>\n",
              "      <td>283.6</td>\n",
              "      <td>42.0</td>\n",
              "      <td>66.2</td>\n",
              "      <td>25.5</td>\n",
              "    </tr>\n",
              "    <tr>\n",
              "      <th>198</th>\n",
              "      <td>232.1</td>\n",
              "      <td>8.6</td>\n",
              "      <td>8.7</td>\n",
              "      <td>18.4</td>\n",
              "    </tr>\n",
              "  </tbody>\n",
              "</table>\n",
              "<p>199 rows × 4 columns</p>\n",
              "</div>\n",
              "    <div class=\"colab-df-buttons\">\n",
              "\n",
              "  <div class=\"colab-df-container\">\n",
              "    <button class=\"colab-df-convert\" onclick=\"convertToInteractive('df-6de3c8f9-1cd3-47b8-8e0c-836537c24d39')\"\n",
              "            title=\"Convert this dataframe to an interactive table.\"\n",
              "            style=\"display:none;\">\n",
              "\n",
              "  <svg xmlns=\"http://www.w3.org/2000/svg\" height=\"24px\" viewBox=\"0 -960 960 960\">\n",
              "    <path d=\"M120-120v-720h720v720H120Zm60-500h600v-160H180v160Zm220 220h160v-160H400v160Zm0 220h160v-160H400v160ZM180-400h160v-160H180v160Zm440 0h160v-160H620v160ZM180-180h160v-160H180v160Zm440 0h160v-160H620v160Z\"/>\n",
              "  </svg>\n",
              "    </button>\n",
              "\n",
              "  <style>\n",
              "    .colab-df-container {\n",
              "      display:flex;\n",
              "      gap: 12px;\n",
              "    }\n",
              "\n",
              "    .colab-df-convert {\n",
              "      background-color: #E8F0FE;\n",
              "      border: none;\n",
              "      border-radius: 50%;\n",
              "      cursor: pointer;\n",
              "      display: none;\n",
              "      fill: #1967D2;\n",
              "      height: 32px;\n",
              "      padding: 0 0 0 0;\n",
              "      width: 32px;\n",
              "    }\n",
              "\n",
              "    .colab-df-convert:hover {\n",
              "      background-color: #E2EBFA;\n",
              "      box-shadow: 0px 1px 2px rgba(60, 64, 67, 0.3), 0px 1px 3px 1px rgba(60, 64, 67, 0.15);\n",
              "      fill: #174EA6;\n",
              "    }\n",
              "\n",
              "    .colab-df-buttons div {\n",
              "      margin-bottom: 4px;\n",
              "    }\n",
              "\n",
              "    [theme=dark] .colab-df-convert {\n",
              "      background-color: #3B4455;\n",
              "      fill: #D2E3FC;\n",
              "    }\n",
              "\n",
              "    [theme=dark] .colab-df-convert:hover {\n",
              "      background-color: #434B5C;\n",
              "      box-shadow: 0px 1px 3px 1px rgba(0, 0, 0, 0.15);\n",
              "      filter: drop-shadow(0px 1px 2px rgba(0, 0, 0, 0.3));\n",
              "      fill: #FFFFFF;\n",
              "    }\n",
              "  </style>\n",
              "\n",
              "    <script>\n",
              "      const buttonEl =\n",
              "        document.querySelector('#df-6de3c8f9-1cd3-47b8-8e0c-836537c24d39 button.colab-df-convert');\n",
              "      buttonEl.style.display =\n",
              "        google.colab.kernel.accessAllowed ? 'block' : 'none';\n",
              "\n",
              "      async function convertToInteractive(key) {\n",
              "        const element = document.querySelector('#df-6de3c8f9-1cd3-47b8-8e0c-836537c24d39');\n",
              "        const dataTable =\n",
              "          await google.colab.kernel.invokeFunction('convertToInteractive',\n",
              "                                                    [key], {});\n",
              "        if (!dataTable) return;\n",
              "\n",
              "        const docLinkHtml = 'Like what you see? Visit the ' +\n",
              "          '<a target=\"_blank\" href=https://colab.research.google.com/notebooks/data_table.ipynb>data table notebook</a>'\n",
              "          + ' to learn more about interactive tables.';\n",
              "        element.innerHTML = '';\n",
              "        dataTable['output_type'] = 'display_data';\n",
              "        await google.colab.output.renderOutput(dataTable, element);\n",
              "        const docLink = document.createElement('div');\n",
              "        docLink.innerHTML = docLinkHtml;\n",
              "        element.appendChild(docLink);\n",
              "      }\n",
              "    </script>\n",
              "  </div>\n",
              "\n",
              "\n",
              "<div id=\"df-9471fc24-524b-4823-ae1c-9eb27acb4aa0\">\n",
              "  <button class=\"colab-df-quickchart\" onclick=\"quickchart('df-9471fc24-524b-4823-ae1c-9eb27acb4aa0')\"\n",
              "            title=\"Suggest charts.\"\n",
              "            style=\"display:none;\">\n",
              "\n",
              "<svg xmlns=\"http://www.w3.org/2000/svg\" height=\"24px\"viewBox=\"0 0 24 24\"\n",
              "     width=\"24px\">\n",
              "    <g>\n",
              "        <path d=\"M19 3H5c-1.1 0-2 .9-2 2v14c0 1.1.9 2 2 2h14c1.1 0 2-.9 2-2V5c0-1.1-.9-2-2-2zM9 17H7v-7h2v7zm4 0h-2V7h2v10zm4 0h-2v-4h2v4z\"/>\n",
              "    </g>\n",
              "</svg>\n",
              "  </button>\n",
              "\n",
              "<style>\n",
              "  .colab-df-quickchart {\n",
              "    background-color: #E8F0FE;\n",
              "    border: none;\n",
              "    border-radius: 50%;\n",
              "    cursor: pointer;\n",
              "    display: none;\n",
              "    fill: #1967D2;\n",
              "    height: 32px;\n",
              "    padding: 0 0 0 0;\n",
              "    width: 32px;\n",
              "  }\n",
              "\n",
              "  .colab-df-quickchart:hover {\n",
              "    background-color: #E2EBFA;\n",
              "    box-shadow: 0px 1px 2px rgba(60, 64, 67, 0.3), 0px 1px 3px 1px rgba(60, 64, 67, 0.15);\n",
              "    fill: #174EA6;\n",
              "  }\n",
              "\n",
              "  [theme=dark] .colab-df-quickchart {\n",
              "    background-color: #3B4455;\n",
              "    fill: #D2E3FC;\n",
              "  }\n",
              "\n",
              "  [theme=dark] .colab-df-quickchart:hover {\n",
              "    background-color: #434B5C;\n",
              "    box-shadow: 0px 1px 3px 1px rgba(0, 0, 0, 0.15);\n",
              "    filter: drop-shadow(0px 1px 2px rgba(0, 0, 0, 0.3));\n",
              "    fill: #FFFFFF;\n",
              "  }\n",
              "</style>\n",
              "\n",
              "  <script>\n",
              "    async function quickchart(key) {\n",
              "      const charts = await google.colab.kernel.invokeFunction(\n",
              "          'suggestCharts', [key], {});\n",
              "    }\n",
              "    (() => {\n",
              "      let quickchartButtonEl =\n",
              "        document.querySelector('#df-9471fc24-524b-4823-ae1c-9eb27acb4aa0 button');\n",
              "      quickchartButtonEl.style.display =\n",
              "        google.colab.kernel.accessAllowed ? 'block' : 'none';\n",
              "    })();\n",
              "  </script>\n",
              "</div>\n",
              "    </div>\n",
              "  </div>\n"
            ]
          },
          "metadata": {},
          "execution_count": 89
        }
      ]
    },
    {
      "cell_type": "code",
      "source": [
        "X = data.iloc[:,:3]\n",
        "y = data.iloc[:,3:]"
      ],
      "metadata": {
        "id": "2IOiK2B17S0o"
      },
      "execution_count": 90,
      "outputs": []
    },
    {
      "cell_type": "code",
      "source": [
        "y"
      ],
      "metadata": {
        "colab": {
          "base_uri": "https://localhost:8080/",
          "height": 423
        },
        "id": "N3v8z16lCk0x",
        "outputId": "bebfde99-32a6-48d9-b7d2-b5ad85c67635"
      },
      "execution_count": 45,
      "outputs": [
        {
          "output_type": "execute_result",
          "data": {
            "text/plain": [
              "     22.1\n",
              "0    10.4\n",
              "1    12.0\n",
              "2    16.5\n",
              "3    17.9\n",
              "4     7.2\n",
              "..    ...\n",
              "194   7.6\n",
              "195  14.0\n",
              "196  14.8\n",
              "197  25.5\n",
              "198  18.4\n",
              "\n",
              "[199 rows x 1 columns]"
            ],
            "text/html": [
              "\n",
              "  <div id=\"df-6016dfe0-92e7-481d-ae47-53c10680097e\" class=\"colab-df-container\">\n",
              "    <div>\n",
              "<style scoped>\n",
              "    .dataframe tbody tr th:only-of-type {\n",
              "        vertical-align: middle;\n",
              "    }\n",
              "\n",
              "    .dataframe tbody tr th {\n",
              "        vertical-align: top;\n",
              "    }\n",
              "\n",
              "    .dataframe thead th {\n",
              "        text-align: right;\n",
              "    }\n",
              "</style>\n",
              "<table border=\"1\" class=\"dataframe\">\n",
              "  <thead>\n",
              "    <tr style=\"text-align: right;\">\n",
              "      <th></th>\n",
              "      <th>22.1</th>\n",
              "    </tr>\n",
              "  </thead>\n",
              "  <tbody>\n",
              "    <tr>\n",
              "      <th>0</th>\n",
              "      <td>10.4</td>\n",
              "    </tr>\n",
              "    <tr>\n",
              "      <th>1</th>\n",
              "      <td>12.0</td>\n",
              "    </tr>\n",
              "    <tr>\n",
              "      <th>2</th>\n",
              "      <td>16.5</td>\n",
              "    </tr>\n",
              "    <tr>\n",
              "      <th>3</th>\n",
              "      <td>17.9</td>\n",
              "    </tr>\n",
              "    <tr>\n",
              "      <th>4</th>\n",
              "      <td>7.2</td>\n",
              "    </tr>\n",
              "    <tr>\n",
              "      <th>...</th>\n",
              "      <td>...</td>\n",
              "    </tr>\n",
              "    <tr>\n",
              "      <th>194</th>\n",
              "      <td>7.6</td>\n",
              "    </tr>\n",
              "    <tr>\n",
              "      <th>195</th>\n",
              "      <td>14.0</td>\n",
              "    </tr>\n",
              "    <tr>\n",
              "      <th>196</th>\n",
              "      <td>14.8</td>\n",
              "    </tr>\n",
              "    <tr>\n",
              "      <th>197</th>\n",
              "      <td>25.5</td>\n",
              "    </tr>\n",
              "    <tr>\n",
              "      <th>198</th>\n",
              "      <td>18.4</td>\n",
              "    </tr>\n",
              "  </tbody>\n",
              "</table>\n",
              "<p>199 rows × 1 columns</p>\n",
              "</div>\n",
              "    <div class=\"colab-df-buttons\">\n",
              "\n",
              "  <div class=\"colab-df-container\">\n",
              "    <button class=\"colab-df-convert\" onclick=\"convertToInteractive('df-6016dfe0-92e7-481d-ae47-53c10680097e')\"\n",
              "            title=\"Convert this dataframe to an interactive table.\"\n",
              "            style=\"display:none;\">\n",
              "\n",
              "  <svg xmlns=\"http://www.w3.org/2000/svg\" height=\"24px\" viewBox=\"0 -960 960 960\">\n",
              "    <path d=\"M120-120v-720h720v720H120Zm60-500h600v-160H180v160Zm220 220h160v-160H400v160Zm0 220h160v-160H400v160ZM180-400h160v-160H180v160Zm440 0h160v-160H620v160ZM180-180h160v-160H180v160Zm440 0h160v-160H620v160Z\"/>\n",
              "  </svg>\n",
              "    </button>\n",
              "\n",
              "  <style>\n",
              "    .colab-df-container {\n",
              "      display:flex;\n",
              "      gap: 12px;\n",
              "    }\n",
              "\n",
              "    .colab-df-convert {\n",
              "      background-color: #E8F0FE;\n",
              "      border: none;\n",
              "      border-radius: 50%;\n",
              "      cursor: pointer;\n",
              "      display: none;\n",
              "      fill: #1967D2;\n",
              "      height: 32px;\n",
              "      padding: 0 0 0 0;\n",
              "      width: 32px;\n",
              "    }\n",
              "\n",
              "    .colab-df-convert:hover {\n",
              "      background-color: #E2EBFA;\n",
              "      box-shadow: 0px 1px 2px rgba(60, 64, 67, 0.3), 0px 1px 3px 1px rgba(60, 64, 67, 0.15);\n",
              "      fill: #174EA6;\n",
              "    }\n",
              "\n",
              "    .colab-df-buttons div {\n",
              "      margin-bottom: 4px;\n",
              "    }\n",
              "\n",
              "    [theme=dark] .colab-df-convert {\n",
              "      background-color: #3B4455;\n",
              "      fill: #D2E3FC;\n",
              "    }\n",
              "\n",
              "    [theme=dark] .colab-df-convert:hover {\n",
              "      background-color: #434B5C;\n",
              "      box-shadow: 0px 1px 3px 1px rgba(0, 0, 0, 0.15);\n",
              "      filter: drop-shadow(0px 1px 2px rgba(0, 0, 0, 0.3));\n",
              "      fill: #FFFFFF;\n",
              "    }\n",
              "  </style>\n",
              "\n",
              "    <script>\n",
              "      const buttonEl =\n",
              "        document.querySelector('#df-6016dfe0-92e7-481d-ae47-53c10680097e button.colab-df-convert');\n",
              "      buttonEl.style.display =\n",
              "        google.colab.kernel.accessAllowed ? 'block' : 'none';\n",
              "\n",
              "      async function convertToInteractive(key) {\n",
              "        const element = document.querySelector('#df-6016dfe0-92e7-481d-ae47-53c10680097e');\n",
              "        const dataTable =\n",
              "          await google.colab.kernel.invokeFunction('convertToInteractive',\n",
              "                                                    [key], {});\n",
              "        if (!dataTable) return;\n",
              "\n",
              "        const docLinkHtml = 'Like what you see? Visit the ' +\n",
              "          '<a target=\"_blank\" href=https://colab.research.google.com/notebooks/data_table.ipynb>data table notebook</a>'\n",
              "          + ' to learn more about interactive tables.';\n",
              "        element.innerHTML = '';\n",
              "        dataTable['output_type'] = 'display_data';\n",
              "        await google.colab.output.renderOutput(dataTable, element);\n",
              "        const docLink = document.createElement('div');\n",
              "        docLink.innerHTML = docLinkHtml;\n",
              "        element.appendChild(docLink);\n",
              "      }\n",
              "    </script>\n",
              "  </div>\n",
              "\n",
              "\n",
              "<div id=\"df-0bc6a883-9f53-493b-84b3-25c85fb7dc40\">\n",
              "  <button class=\"colab-df-quickchart\" onclick=\"quickchart('df-0bc6a883-9f53-493b-84b3-25c85fb7dc40')\"\n",
              "            title=\"Suggest charts.\"\n",
              "            style=\"display:none;\">\n",
              "\n",
              "<svg xmlns=\"http://www.w3.org/2000/svg\" height=\"24px\"viewBox=\"0 0 24 24\"\n",
              "     width=\"24px\">\n",
              "    <g>\n",
              "        <path d=\"M19 3H5c-1.1 0-2 .9-2 2v14c0 1.1.9 2 2 2h14c1.1 0 2-.9 2-2V5c0-1.1-.9-2-2-2zM9 17H7v-7h2v7zm4 0h-2V7h2v10zm4 0h-2v-4h2v4z\"/>\n",
              "    </g>\n",
              "</svg>\n",
              "  </button>\n",
              "\n",
              "<style>\n",
              "  .colab-df-quickchart {\n",
              "    background-color: #E8F0FE;\n",
              "    border: none;\n",
              "    border-radius: 50%;\n",
              "    cursor: pointer;\n",
              "    display: none;\n",
              "    fill: #1967D2;\n",
              "    height: 32px;\n",
              "    padding: 0 0 0 0;\n",
              "    width: 32px;\n",
              "  }\n",
              "\n",
              "  .colab-df-quickchart:hover {\n",
              "    background-color: #E2EBFA;\n",
              "    box-shadow: 0px 1px 2px rgba(60, 64, 67, 0.3), 0px 1px 3px 1px rgba(60, 64, 67, 0.15);\n",
              "    fill: #174EA6;\n",
              "  }\n",
              "\n",
              "  [theme=dark] .colab-df-quickchart {\n",
              "    background-color: #3B4455;\n",
              "    fill: #D2E3FC;\n",
              "  }\n",
              "\n",
              "  [theme=dark] .colab-df-quickchart:hover {\n",
              "    background-color: #434B5C;\n",
              "    box-shadow: 0px 1px 3px 1px rgba(0, 0, 0, 0.15);\n",
              "    filter: drop-shadow(0px 1px 2px rgba(0, 0, 0, 0.3));\n",
              "    fill: #FFFFFF;\n",
              "  }\n",
              "</style>\n",
              "\n",
              "  <script>\n",
              "    async function quickchart(key) {\n",
              "      const charts = await google.colab.kernel.invokeFunction(\n",
              "          'suggestCharts', [key], {});\n",
              "    }\n",
              "    (() => {\n",
              "      let quickchartButtonEl =\n",
              "        document.querySelector('#df-0bc6a883-9f53-493b-84b3-25c85fb7dc40 button');\n",
              "      quickchartButtonEl.style.display =\n",
              "        google.colab.kernel.accessAllowed ? 'block' : 'none';\n",
              "    })();\n",
              "  </script>\n",
              "</div>\n",
              "    </div>\n",
              "  </div>\n"
            ]
          },
          "metadata": {},
          "execution_count": 45
        }
      ]
    },
    {
      "cell_type": "code",
      "source": [
        "X"
      ],
      "metadata": {
        "colab": {
          "base_uri": "https://localhost:8080/",
          "height": 423
        },
        "id": "OC3vCSgwCegF",
        "outputId": "c26925ee-42f6-4aab-a0ea-7e1c3a1edd0a"
      },
      "execution_count": 40,
      "outputs": [
        {
          "output_type": "execute_result",
          "data": {
            "text/plain": [
              "     230.1  37.8  69.2\n",
              "0     44.5  39.3  45.1\n",
              "1     17.2  45.9  69.3\n",
              "2    151.5  41.3  58.5\n",
              "3    180.8  10.8  58.4\n",
              "4      8.7  48.9  75.0\n",
              "..     ...   ...   ...\n",
              "194   38.2   3.7  13.8\n",
              "195   94.2   4.9   8.1\n",
              "196  177.0   9.3   6.4\n",
              "197  283.6  42.0  66.2\n",
              "198  232.1   8.6   8.7\n",
              "\n",
              "[199 rows x 3 columns]"
            ],
            "text/html": [
              "\n",
              "  <div id=\"df-6c197b14-d1fc-4cc1-9c28-ba458b00e04a\" class=\"colab-df-container\">\n",
              "    <div>\n",
              "<style scoped>\n",
              "    .dataframe tbody tr th:only-of-type {\n",
              "        vertical-align: middle;\n",
              "    }\n",
              "\n",
              "    .dataframe tbody tr th {\n",
              "        vertical-align: top;\n",
              "    }\n",
              "\n",
              "    .dataframe thead th {\n",
              "        text-align: right;\n",
              "    }\n",
              "</style>\n",
              "<table border=\"1\" class=\"dataframe\">\n",
              "  <thead>\n",
              "    <tr style=\"text-align: right;\">\n",
              "      <th></th>\n",
              "      <th>230.1</th>\n",
              "      <th>37.8</th>\n",
              "      <th>69.2</th>\n",
              "    </tr>\n",
              "  </thead>\n",
              "  <tbody>\n",
              "    <tr>\n",
              "      <th>0</th>\n",
              "      <td>44.5</td>\n",
              "      <td>39.3</td>\n",
              "      <td>45.1</td>\n",
              "    </tr>\n",
              "    <tr>\n",
              "      <th>1</th>\n",
              "      <td>17.2</td>\n",
              "      <td>45.9</td>\n",
              "      <td>69.3</td>\n",
              "    </tr>\n",
              "    <tr>\n",
              "      <th>2</th>\n",
              "      <td>151.5</td>\n",
              "      <td>41.3</td>\n",
              "      <td>58.5</td>\n",
              "    </tr>\n",
              "    <tr>\n",
              "      <th>3</th>\n",
              "      <td>180.8</td>\n",
              "      <td>10.8</td>\n",
              "      <td>58.4</td>\n",
              "    </tr>\n",
              "    <tr>\n",
              "      <th>4</th>\n",
              "      <td>8.7</td>\n",
              "      <td>48.9</td>\n",
              "      <td>75.0</td>\n",
              "    </tr>\n",
              "    <tr>\n",
              "      <th>...</th>\n",
              "      <td>...</td>\n",
              "      <td>...</td>\n",
              "      <td>...</td>\n",
              "    </tr>\n",
              "    <tr>\n",
              "      <th>194</th>\n",
              "      <td>38.2</td>\n",
              "      <td>3.7</td>\n",
              "      <td>13.8</td>\n",
              "    </tr>\n",
              "    <tr>\n",
              "      <th>195</th>\n",
              "      <td>94.2</td>\n",
              "      <td>4.9</td>\n",
              "      <td>8.1</td>\n",
              "    </tr>\n",
              "    <tr>\n",
              "      <th>196</th>\n",
              "      <td>177.0</td>\n",
              "      <td>9.3</td>\n",
              "      <td>6.4</td>\n",
              "    </tr>\n",
              "    <tr>\n",
              "      <th>197</th>\n",
              "      <td>283.6</td>\n",
              "      <td>42.0</td>\n",
              "      <td>66.2</td>\n",
              "    </tr>\n",
              "    <tr>\n",
              "      <th>198</th>\n",
              "      <td>232.1</td>\n",
              "      <td>8.6</td>\n",
              "      <td>8.7</td>\n",
              "    </tr>\n",
              "  </tbody>\n",
              "</table>\n",
              "<p>199 rows × 3 columns</p>\n",
              "</div>\n",
              "    <div class=\"colab-df-buttons\">\n",
              "\n",
              "  <div class=\"colab-df-container\">\n",
              "    <button class=\"colab-df-convert\" onclick=\"convertToInteractive('df-6c197b14-d1fc-4cc1-9c28-ba458b00e04a')\"\n",
              "            title=\"Convert this dataframe to an interactive table.\"\n",
              "            style=\"display:none;\">\n",
              "\n",
              "  <svg xmlns=\"http://www.w3.org/2000/svg\" height=\"24px\" viewBox=\"0 -960 960 960\">\n",
              "    <path d=\"M120-120v-720h720v720H120Zm60-500h600v-160H180v160Zm220 220h160v-160H400v160Zm0 220h160v-160H400v160ZM180-400h160v-160H180v160Zm440 0h160v-160H620v160ZM180-180h160v-160H180v160Zm440 0h160v-160H620v160Z\"/>\n",
              "  </svg>\n",
              "    </button>\n",
              "\n",
              "  <style>\n",
              "    .colab-df-container {\n",
              "      display:flex;\n",
              "      gap: 12px;\n",
              "    }\n",
              "\n",
              "    .colab-df-convert {\n",
              "      background-color: #E8F0FE;\n",
              "      border: none;\n",
              "      border-radius: 50%;\n",
              "      cursor: pointer;\n",
              "      display: none;\n",
              "      fill: #1967D2;\n",
              "      height: 32px;\n",
              "      padding: 0 0 0 0;\n",
              "      width: 32px;\n",
              "    }\n",
              "\n",
              "    .colab-df-convert:hover {\n",
              "      background-color: #E2EBFA;\n",
              "      box-shadow: 0px 1px 2px rgba(60, 64, 67, 0.3), 0px 1px 3px 1px rgba(60, 64, 67, 0.15);\n",
              "      fill: #174EA6;\n",
              "    }\n",
              "\n",
              "    .colab-df-buttons div {\n",
              "      margin-bottom: 4px;\n",
              "    }\n",
              "\n",
              "    [theme=dark] .colab-df-convert {\n",
              "      background-color: #3B4455;\n",
              "      fill: #D2E3FC;\n",
              "    }\n",
              "\n",
              "    [theme=dark] .colab-df-convert:hover {\n",
              "      background-color: #434B5C;\n",
              "      box-shadow: 0px 1px 3px 1px rgba(0, 0, 0, 0.15);\n",
              "      filter: drop-shadow(0px 1px 2px rgba(0, 0, 0, 0.3));\n",
              "      fill: #FFFFFF;\n",
              "    }\n",
              "  </style>\n",
              "\n",
              "    <script>\n",
              "      const buttonEl =\n",
              "        document.querySelector('#df-6c197b14-d1fc-4cc1-9c28-ba458b00e04a button.colab-df-convert');\n",
              "      buttonEl.style.display =\n",
              "        google.colab.kernel.accessAllowed ? 'block' : 'none';\n",
              "\n",
              "      async function convertToInteractive(key) {\n",
              "        const element = document.querySelector('#df-6c197b14-d1fc-4cc1-9c28-ba458b00e04a');\n",
              "        const dataTable =\n",
              "          await google.colab.kernel.invokeFunction('convertToInteractive',\n",
              "                                                    [key], {});\n",
              "        if (!dataTable) return;\n",
              "\n",
              "        const docLinkHtml = 'Like what you see? Visit the ' +\n",
              "          '<a target=\"_blank\" href=https://colab.research.google.com/notebooks/data_table.ipynb>data table notebook</a>'\n",
              "          + ' to learn more about interactive tables.';\n",
              "        element.innerHTML = '';\n",
              "        dataTable['output_type'] = 'display_data';\n",
              "        await google.colab.output.renderOutput(dataTable, element);\n",
              "        const docLink = document.createElement('div');\n",
              "        docLink.innerHTML = docLinkHtml;\n",
              "        element.appendChild(docLink);\n",
              "      }\n",
              "    </script>\n",
              "  </div>\n",
              "\n",
              "\n",
              "<div id=\"df-d0a9b853-ea91-4d34-a114-664b808e01fd\">\n",
              "  <button class=\"colab-df-quickchart\" onclick=\"quickchart('df-d0a9b853-ea91-4d34-a114-664b808e01fd')\"\n",
              "            title=\"Suggest charts.\"\n",
              "            style=\"display:none;\">\n",
              "\n",
              "<svg xmlns=\"http://www.w3.org/2000/svg\" height=\"24px\"viewBox=\"0 0 24 24\"\n",
              "     width=\"24px\">\n",
              "    <g>\n",
              "        <path d=\"M19 3H5c-1.1 0-2 .9-2 2v14c0 1.1.9 2 2 2h14c1.1 0 2-.9 2-2V5c0-1.1-.9-2-2-2zM9 17H7v-7h2v7zm4 0h-2V7h2v10zm4 0h-2v-4h2v4z\"/>\n",
              "    </g>\n",
              "</svg>\n",
              "  </button>\n",
              "\n",
              "<style>\n",
              "  .colab-df-quickchart {\n",
              "    background-color: #E8F0FE;\n",
              "    border: none;\n",
              "    border-radius: 50%;\n",
              "    cursor: pointer;\n",
              "    display: none;\n",
              "    fill: #1967D2;\n",
              "    height: 32px;\n",
              "    padding: 0 0 0 0;\n",
              "    width: 32px;\n",
              "  }\n",
              "\n",
              "  .colab-df-quickchart:hover {\n",
              "    background-color: #E2EBFA;\n",
              "    box-shadow: 0px 1px 2px rgba(60, 64, 67, 0.3), 0px 1px 3px 1px rgba(60, 64, 67, 0.15);\n",
              "    fill: #174EA6;\n",
              "  }\n",
              "\n",
              "  [theme=dark] .colab-df-quickchart {\n",
              "    background-color: #3B4455;\n",
              "    fill: #D2E3FC;\n",
              "  }\n",
              "\n",
              "  [theme=dark] .colab-df-quickchart:hover {\n",
              "    background-color: #434B5C;\n",
              "    box-shadow: 0px 1px 3px 1px rgba(0, 0, 0, 0.15);\n",
              "    filter: drop-shadow(0px 1px 2px rgba(0, 0, 0, 0.3));\n",
              "    fill: #FFFFFF;\n",
              "  }\n",
              "</style>\n",
              "\n",
              "  <script>\n",
              "    async function quickchart(key) {\n",
              "      const charts = await google.colab.kernel.invokeFunction(\n",
              "          'suggestCharts', [key], {});\n",
              "    }\n",
              "    (() => {\n",
              "      let quickchartButtonEl =\n",
              "        document.querySelector('#df-d0a9b853-ea91-4d34-a114-664b808e01fd button');\n",
              "      quickchartButtonEl.style.display =\n",
              "        google.colab.kernel.accessAllowed ? 'block' : 'none';\n",
              "    })();\n",
              "  </script>\n",
              "</div>\n",
              "    </div>\n",
              "  </div>\n"
            ]
          },
          "metadata": {},
          "execution_count": 40
        }
      ]
    },
    {
      "cell_type": "markdown",
      "source": [
        "## Data preprocessing"
      ],
      "metadata": {
        "id": "gTUrZgFVOyTS"
      }
    },
    {
      "cell_type": "code",
      "source": [
        "from sklearn.preprocessing import MinMaxScaler\n",
        "\n",
        "scaler = MinMaxScaler()\n",
        "\n",
        "X = scaler.fit_transform(X) # Normalize\n"
      ],
      "metadata": {
        "id": "ScVrJMF8BAcI"
      },
      "execution_count": 91,
      "outputs": []
    },
    {
      "cell_type": "code",
      "source": [
        "y.shape, type(y)"
      ],
      "metadata": {
        "colab": {
          "base_uri": "https://localhost:8080/"
        },
        "id": "wKAQ9cZHyspT",
        "outputId": "03895028-6616-4dbc-f133-e1c6a3bb637b"
      },
      "execution_count": 101,
      "outputs": [
        {
          "output_type": "execute_result",
          "data": {
            "text/plain": [
              "((199, 1), pandas.core.frame.DataFrame)"
            ]
          },
          "metadata": {},
          "execution_count": 101
        }
      ]
    },
    {
      "cell_type": "code",
      "source": [
        "y=y.to_numpy()"
      ],
      "metadata": {
        "id": "VBXXG3dzZkT2"
      },
      "execution_count": 102,
      "outputs": []
    },
    {
      "cell_type": "code",
      "source": [
        "type(y)"
      ],
      "metadata": {
        "colab": {
          "base_uri": "https://localhost:8080/"
        },
        "id": "dqGd2jceZrNE",
        "outputId": "92aefc4d-b163-4f1a-cc44-e1c493bcb1ac"
      },
      "execution_count": 103,
      "outputs": [
        {
          "output_type": "execute_result",
          "data": {
            "text/plain": [
              "numpy.ndarray"
            ]
          },
          "metadata": {},
          "execution_count": 103
        }
      ]
    },
    {
      "cell_type": "code",
      "source": [
        "y=y.reshape(-1)"
      ],
      "metadata": {
        "id": "gVua5SsuZNG7"
      },
      "execution_count": 104,
      "outputs": []
    },
    {
      "cell_type": "code",
      "source": [
        "y.shape"
      ],
      "metadata": {
        "colab": {
          "base_uri": "https://localhost:8080/"
        },
        "id": "724MtkHzYloR",
        "outputId": "5ef7be79-3641-4d77-f42b-08a059145377"
      },
      "execution_count": 105,
      "outputs": [
        {
          "output_type": "execute_result",
          "data": {
            "text/plain": [
              "(199,)"
            ]
          },
          "metadata": {},
          "execution_count": 105
        }
      ]
    },
    {
      "cell_type": "code",
      "source": [
        "from sklearn.model_selection import train_test_split\n",
        "\n",
        "X_train, X_test, y_train, y_test = train_test_split(X, y, test_size=0.2, random_state=42)"
      ],
      "metadata": {
        "id": "ldf0FGC0T9Ut"
      },
      "execution_count": 106,
      "outputs": []
    },
    {
      "cell_type": "code",
      "source": [
        "X_train.shape, X_test.shape, y_train.shape, y_test.shape"
      ],
      "metadata": {
        "colab": {
          "base_uri": "https://localhost:8080/"
        },
        "id": "4gYmvcS3yssM",
        "outputId": "a84b8f1a-cfb2-479b-9fe7-8501be9c88bd"
      },
      "execution_count": 107,
      "outputs": [
        {
          "output_type": "execute_result",
          "data": {
            "text/plain": [
              "((159, 3), (40, 3), (159,), (40,))"
            ]
          },
          "metadata": {},
          "execution_count": 107
        }
      ]
    },
    {
      "cell_type": "code",
      "source": [
        "X_train = np.c_[np.ones((X_train.shape[0],1)), X_train]"
      ],
      "metadata": {
        "id": "PwDm5B5ygPJy"
      },
      "execution_count": 132,
      "outputs": []
    },
    {
      "cell_type": "code",
      "source": [
        "X_train"
      ],
      "metadata": {
        "colab": {
          "base_uri": "https://localhost:8080/"
        },
        "id": "znRskN2ogX4k",
        "outputId": "d3f4335e-d0da-4ca1-d163-9fc969358b43"
      },
      "execution_count": 136,
      "outputs": [
        {
          "output_type": "execute_result",
          "data": {
            "text/plain": [
              "array([[1.        , 0.85593507, 0.42943548, 0.26121372],\n",
              "       [1.        , 0.76868448, 0.76008065, 0.27880387],\n",
              "       [1.        , 0.8867095 , 0.07056452, 0.16886544],\n",
              "       [1.        , 0.35136963, 0.11491935, 0.29991205],\n",
              "       [1.        , 0.74332093, 0.66935484, 0.33069481],\n",
              "       [1.        , 0.98816368, 0.57056452, 0.37730871],\n",
              "       [1.        , 0.73621914, 0.55846774, 0.46701847],\n",
              "       [1.        , 0.16672303, 0.23387097, 0.15919085],\n",
              "       [1.        , 0.74264457, 0.98790323, 0.02550572],\n",
              "       [1.        , 0.06323977, 0.32258065, 0.19349164],\n",
              "       [1.        , 0.4582347 , 0.38709677, 0.14335972],\n",
              "       [1.        , 0.19208657, 0.66129032, 0.20404573],\n",
              "       [1.        , 0.41393304, 0.69758065, 0.1064204 ],\n",
              "       [1.        , 0.26208996, 0.94354839, 0.30079156],\n",
              "       [1.        , 0.36083869, 0.28225806, 0.09322779],\n",
              "       [1.        , 0.24585729, 0.34274194, 0.11081794],\n",
              "       [1.        , 0.66587758, 0.07056452, 0.04925242],\n",
              "       [1.        , 0.06391613, 0.40524194, 0.14687775],\n",
              "       [1.        , 0.59621238, 0.1875    , 0.05364996],\n",
              "       [1.        , 0.95908015, 0.21370968, 0.05364996],\n",
              "       [1.        , 0.65268854, 0.71370968, 0.66226913],\n",
              "       [1.        , 0.32634427, 0.03024194, 0.26121372],\n",
              "       [1.        , 0.32735881, 0.15322581, 0.06068602],\n",
              "       [1.        , 0.90023673, 0.88306452, 0.04133685],\n",
              "       [1.        , 0.46838011, 0.28830645, 0.22251539],\n",
              "       [1.        , 0.69732837, 0.16935484, 0.22955145],\n",
              "       [1.        , 0.71931011, 0.49596774, 0.11257696],\n",
              "       [1.        , 0.92323301, 0.58266129, 0.52242744],\n",
              "       [1.        , 0.08420697, 0.78629032, 0.07915567],\n",
              "       [1.        , 0.72945553, 0.84072581, 0.34564644],\n",
              "       [1.        , 0.46398377, 0.93548387, 0.51627089],\n",
              "       [1.        , 0.63476496, 0.36491935, 0.22251539],\n",
              "       [1.        , 0.99053094, 0.55846774, 0.01319261],\n",
              "       [1.        , 0.25160636, 0.70564516, 0.46086192],\n",
              "       [1.        , 0.7612445 , 0.16532258, 0.4942832 ],\n",
              "       [1.        , 0.80960433, 0.33669355, 0.19876869],\n",
              "       [1.        , 0.74095367, 0.67540323, 0.39401935],\n",
              "       [1.        , 0.9773419 , 0.85282258, 0.44766931],\n",
              "       [1.        , 0.05816706, 0.75806452, 0.18733509],\n",
              "       [1.        , 0.50997633, 0.83266129, 0.51187335],\n",
              "       [1.        , 0.01589449, 0.60282258, 0.08003518],\n",
              "       [1.        , 0.80892797, 0.83669355, 0.16007036],\n",
              "       [1.        , 0.70645925, 0.41532258, 0.09146878],\n",
              "       [1.        , 0.46939466, 0.04233871, 0.23131047],\n",
              "       [1.        , 0.62292864, 0.88508065, 0.0123131 ],\n",
              "       [1.        , 0.25025364, 0.99596774, 0.39929639],\n",
              "       [1.        , 0.80689888, 0.3125    , 0.23746702],\n",
              "       [1.        , 0.76969902, 0.34072581, 0.22779244],\n",
              "       [1.        , 0.550558  , 0.74193548, 0.06244503],\n",
              "       [1.        , 0.45485289, 0.84072581, 0.40105541],\n",
              "       [1.        , 0.32127156, 0.02822581, 0.06244503],\n",
              "       [1.        , 0.07811972, 0.70766129, 0.5769569 ],\n",
              "       [1.        , 0.50388908, 0.71774194, 0.05013193],\n",
              "       [1.        , 0.44301657, 0.37096774, 0.30167106],\n",
              "       [1.        , 0.4041258 , 0.39516129, 0.09938434],\n",
              "       [1.        , 0.83902604, 0.54637097, 0.19876869],\n",
              "       [1.        , 0.64389584, 0.57862903, 0.15743184],\n",
              "       [1.        , 0.02705445, 0.9858871 , 0.65699208],\n",
              "       [1.        , 0.89584038, 0.40322581, 0.        ],\n",
              "       [1.        , 1.        , 0.73185484, 0.88478452],\n",
              "       [1.        , 0.4721001 , 0.03830645, 0.07651715],\n",
              "       [1.        , 0.12681772, 0.07459677, 0.11873351],\n",
              "       [1.        , 0.32296246, 0.2983871 , 0.33948989],\n",
              "       [1.        , 0.72370646, 0.48387097, 0.03254178],\n",
              "       [1.        , 0.3449442 , 0.59677419, 0.07124011],\n",
              "       [1.        , 0.42272574, 0.74395161, 0.6939314 ],\n",
              "       [1.        , 0.80960433, 0.14717742, 0.07387863],\n",
              "       [1.        , 0.1481231 , 0.79233871, 0.39401935],\n",
              "       [1.        , 0.55765979, 0.2016129 , 0.15215479],\n",
              "       [1.        , 0.57693608, 0.80040323, 0.3289358 ],\n",
              "       [1.        , 0.36895502, 0.28830645, 0.27616535],\n",
              "       [1.        , 0.47548191, 0.54032258, 0.40369393],\n",
              "       [1.        , 0.23097734, 0.1875    , 0.00527704],\n",
              "       [1.        , 0.58978695, 0.45362903, 0.27440633],\n",
              "       [1.        , 0.18769023, 0.11491935, 0.2585752 ],\n",
              "       [1.        , 0.23638823, 0.32258065, 0.35620053],\n",
              "       [1.        , 0.59621238, 0.6733871 , 0.33773087],\n",
              "       [1.        , 0.02401082, 0.78427419, 0.44239226],\n",
              "       [1.        , 0.01149814, 0.23387097, 0.0474934 ],\n",
              "       [1.        , 0.31518431, 0.87701613, 0.44151275],\n",
              "       [1.        , 0.4808928 , 0.59072581, 0.10817942],\n",
              "       [1.        , 0.20831924, 0.25403226, 0.15831135],\n",
              "       [1.        , 0.40683125, 0.16935484, 0.42568162],\n",
              "       [1.        , 0.82008793, 0.98790323, 0.38698329],\n",
              "       [1.        , 0.25228272, 0.40927419, 0.28320141],\n",
              "       [1.        , 0.86134596, 0.54233871, 0.04573439],\n",
              "       [1.        , 0.25600271, 0.53830645, 0.19349164],\n",
              "       [1.        , 0.65099763, 0.37096774, 0.57519789],\n",
              "       [1.        , 0.68244843, 0.44959677, 0.27528584],\n",
              "       [1.        , 0.72607372, 0.47580645, 0.50395778],\n",
              "       [1.        , 0.76597903, 0.31854839, 0.43623571],\n",
              "       [1.        , 0.54988164, 0.63709677, 0.46262093],\n",
              "       [1.        , 0.63273588, 0.42540323, 0.08091469],\n",
              "       [1.        , 0.08251606, 0.51814516, 0.37818821],\n",
              "       [1.        , 0.14305039, 0.52217742, 0.17766051],\n",
              "       [1.        , 0.60906324, 0.21774194, 0.51099384],\n",
              "       [1.        , 0.08217788, 0.22177419, 0.2585752 ],\n",
              "       [1.        , 0.88603314, 0.58064516, 0.13720317],\n",
              "       [1.        , 0.12242137, 0.77822581, 0.57431838],\n",
              "       [1.        , 0.95671288, 0.84677419, 0.57959543],\n",
              "       [1.        , 0.50422726, 0.02620968, 0.21108179],\n",
              "       [1.        , 0.69090294, 0.90927419, 0.16974494],\n",
              "       [1.        , 0.67331755, 0.0625    , 0.30167106],\n",
              "       [1.        , 0.80858979, 0.08266129, 0.32189974],\n",
              "       [1.        , 0.98072371, 0.08266129, 0.07211961],\n",
              "       [1.        , 0.02671627, 0.04233871, 0.00615655],\n",
              "       [1.        , 0.81501522, 0.76612903, 0.20140721],\n",
              "       [1.        , 0.73385188, 0.67540323, 0.51627089],\n",
              "       [1.        , 0.71964829, 0.86693548, 0.294635  ],\n",
              "       [1.        , 0.83767332, 0.60887097, 0.1759015 ],\n",
              "       [1.        , 0.73655732, 0.10887097, 0.23834653],\n",
              "       [1.        , 0.45180927, 0.09879032, 0.07915567],\n",
              "       [1.        , 0.67331755, 0.05241935, 0.18381706],\n",
              "       [1.        , 0.68785932, 0.66330645, 0.40193492],\n",
              "       [1.        , 0.17855935, 0.04032258, 0.18557608],\n",
              "       [1.        , 0.5539398 , 0.42137097, 0.41424802],\n",
              "       [1.        , 0.02603991, 0.5483871 , 0.01583113],\n",
              "       [1.        , 0.2316537 , 0.41330645, 0.15831135],\n",
              "       [1.        , 0.43523842, 0.11491935, 0.27264732],\n",
              "       [1.        , 0.93405479, 0.9858871 , 0.3649956 ],\n",
              "       [1.        , 0.16097396, 0.94758065, 0.07211961],\n",
              "       [1.        , 0.69699019, 0.10483871, 0.16798593],\n",
              "       [1.        , 0.97024011, 0.86693548, 0.62884785],\n",
              "       [1.        , 0.44098749, 0.86290323, 0.25153914],\n",
              "       [1.        , 0.67027393, 0.99596774, 0.52506596],\n",
              "       [1.        , 0.04193439, 0.00806452, 0.22251539],\n",
              "       [1.        , 0.33716605, 0.19354839, 0.02902375],\n",
              "       [1.        , 0.31619885, 0.09879032, 0.06860158],\n",
              "       [1.        , 0.71017924, 0.59475806, 0.07915567],\n",
              "       [1.        , 0.22387555, 0.2358871 , 0.32102023],\n",
              "       [1.        , 0.36895502, 0.96370968, 0.44942832],\n",
              "       [1.        , 0.04227257, 0.32056452, 0.43359719],\n",
              "       [1.        , 0.71051742, 1.        , 0.3289358 ],\n",
              "       [1.        , 0.2874535 , 0.72177419, 0.43095866],\n",
              "       [1.        , 0.0557998 , 0.08266129, 0.27528584],\n",
              "       [1.        , 0.        , 0.7983871 , 0.07387863],\n",
              "       [1.        , 0.14338857, 0.53830645, 0.3060686 ],\n",
              "       [1.        , 0.03719986, 0.74395161, 0.39489886],\n",
              "       [1.        , 0.96482922, 0.28024194, 0.02990325],\n",
              "       [1.        , 0.0557998 , 0.92540323, 0.60686016],\n",
              "       [1.        , 0.61515049, 0.93145161, 0.51363237],\n",
              "       [1.        , 0.94690565, 0.28024194, 0.32277924],\n",
              "       [1.        , 0.89448766, 0.05846774, 0.37554969],\n",
              "       [1.        , 0.66587758, 0.46975806, 0.12225154],\n",
              "       [1.        , 0.8031789 , 0.69153226, 0.04397537],\n",
              "       [1.        , 0.74974636, 0.08669355, 0.4353562 ],\n",
              "       [1.        , 0.25600271, 0.01612903, 0.12752858],\n",
              "       [1.        , 0.2962462 , 0.5141129 , 0.64291996],\n",
              "       [1.        , 0.05478526, 0.88104839, 0.78364116],\n",
              "       [1.        , 0.75515725, 0.0483871 , 0.13456464],\n",
              "       [1.        , 0.78254988, 0.1733871 , 0.07387863],\n",
              "       [1.        , 0.80047345, 0.10282258, 0.20404573],\n",
              "       [1.        , 0.06087251, 0.24395161, 0.20316623],\n",
              "       [1.        , 0.08826513, 0.66532258, 0.16710642],\n",
              "       [1.        , 0.30334799, 0.00604839, 0.20140721],\n",
              "       [1.        , 0.65843761, 0.96169355, 0.46262093],\n",
              "       [1.        , 0.84612783, 0.7358871 , 0.63324538],\n",
              "       [1.        , 0.52722354, 0.05241935, 0.0703606 ],\n",
              "       [1.        , 0.63307406, 0.34677419, 0.15479332]])"
            ]
          },
          "metadata": {},
          "execution_count": 136
        }
      ]
    },
    {
      "cell_type": "markdown",
      "source": [
        "## Training"
      ],
      "metadata": {
        "id": "SLFiESpRPWlP"
      }
    },
    {
      "cell_type": "code",
      "source": [
        "def generate_random_value(bound = 100):\n",
        "    return (random.random()*2 - 1)*bound\n",
        "\n",
        "def compute_loss(individual,X,y):\n",
        "    theta = np.array(individual)\n",
        "    y_hat = X.dot(theta)\n",
        "    loss  = np.multiply((y_hat-y), (y_hat-y)).mean()\n",
        "    return loss\n",
        "\n",
        "def compute_fitness(individual,X,y):\n",
        "    loss = compute_loss(individual,X,y)\n",
        "    fitness = 1 / (loss + 0.0001)\n",
        "    return fitness"
      ],
      "metadata": {
        "id": "jeija_HEysvX"
      },
      "execution_count": 129,
      "outputs": []
    },
    {
      "cell_type": "code",
      "source": [
        "def create_individual():\n",
        "    return [generate_random_value() for _ in range(n)]\n",
        "\n",
        "def crossover(individual1, individual2, crossover_rate = 0.9):\n",
        "    individual1_new = individual1.copy()\n",
        "    individual2_new = individual2.copy()\n",
        "\n",
        "    for i in range(n):\n",
        "        if random.random() < crossover_rate:\n",
        "            individual1_new[i] = individual2[i]\n",
        "            individual2_new[i] = individual1[i]\n",
        "\n",
        "    return individual1_new, individual2_new\n",
        "\n",
        "def mutate(individual, mutation_rate = 0.05):\n",
        "    individual_m = individual.copy()\n",
        "\n",
        "    for i in range(n):\n",
        "        if random.random() < mutation_rate:\n",
        "            individual_m[i] = generate_random_value()\n",
        "\n",
        "    return individual_m\n",
        "\n",
        "def selection(sorted_old_population):\n",
        "    index1 = random.randint(0, m-1)\n",
        "    index2 = random.randint(0, m-1)\n",
        "\n",
        "    while index2 == index1:\n",
        "        index2 = random.randint(0, m-1)\n",
        "\n",
        "    individual_s = sorted_old_population[index1]\n",
        "    if index2 > index1:\n",
        "        individual_s = sorted_old_population[index2]\n",
        "\n",
        "    return individual_s"
      ],
      "metadata": {
        "id": "6BqDiLTmPB63"
      },
      "execution_count": 128,
      "outputs": []
    },
    {
      "cell_type": "code",
      "source": [
        "n = 4                 # size of individual (chromosome)\n",
        "m = 100                # size of population\n",
        "n_generations = 3000   # number of generations\n",
        "losses = []            # để vẽ biểu đồ quá trình tối ưu\n",
        "\n",
        "######################### algorithm  #########################\n",
        "# step 1: create initial population\n",
        "population = [create_individual() for _ in range(m)]\n",
        "\n",
        "#==== loops\n",
        "elitism = 2\n",
        "for i in range(n_generations):\n",
        "    sorted_population = sorted(population, key=lambda ind: compute_fitness(ind, X_train, y_train))\n",
        "\n",
        "    if i%100 == 0:\n",
        "        losses.append(compute_loss(sorted_population[-1], X_train, y_train))\n",
        "        print(\"Best loss:\", compute_loss(sorted_population[-1], X_train, y_train), sorted_population[-1])\n",
        "\n",
        "    # create new_population\n",
        "    new_population = sorted_population[-elitism:]\n",
        "\n",
        "    while len(new_population) < m:\n",
        "        # selection\n",
        "        individual_s1 = selection(sorted_population)\n",
        "        individual_s2 = selection(sorted_population) # duplication\n",
        "\n",
        "        # crossover\n",
        "        individual_c1, individual_c2 = crossover(individual_s1, individual_s2)\n",
        "\n",
        "        # mutation\n",
        "        individual_m1 = mutate(individual_c1)\n",
        "        individual_m2 = mutate(individual_c2)\n",
        "\n",
        "        new_population.append(individual_m1)\n",
        "        new_population.append(individual_m2)\n",
        "\n",
        "    # update population\n",
        "    population = new_population"
      ],
      "metadata": {
        "colab": {
          "base_uri": "https://localhost:8080/"
        },
        "id": "qTdJDPvfPB9T",
        "outputId": "8668f70a-0b19-41f8-d676-f7d55b686570"
      },
      "execution_count": 137,
      "outputs": [
        {
          "output_type": "stream",
          "name": "stdout",
          "text": [
            "Best loss: 96.21009848693782 [29.127256446030625, -1.2657863934014468, -11.11382726884289, -9.166052647928602]\n",
            "Best loss: 3.47120507094528 [2.4561053755007833, 18.729717874118258, 5.525034239440152, 1.6858304701338422]\n",
            "Best loss: 3.400385245505784 [2.5656761695712627, 18.604459286919074, 5.525034239440152, 1.793385705296835]\n",
            "Best loss: 3.3448028221048274 [2.771440139571868, 18.604459286919074, 5.525034239440152, 1.5388372683059481]\n",
            "Best loss: 3.1751992914088016 [3.013633074613953, 17.239527489798157, 5.525034239440152, 1.7659600557717203]\n",
            "Best loss: 3.0545799525294606 [3.186003627517753, 17.239527489798157, 6.361066177564312, 0.568966605751231]\n",
            "Best loss: 3.025736124255283 [3.323337167744689, 17.239527489798157, 6.361066177564312, 0.568966605751231]\n",
            "Best loss: 3.025736124255283 [3.323337167744689, 17.239527489798157, 6.361066177564312, 0.568966605751231]\n",
            "Best loss: 3.0221688792046337 [3.323337167744689, 17.239527489798157, 6.361066177564312, 0.40339145134375975]\n",
            "Best loss: 3.0149367682447945 [3.323337167744689, 17.239527489798157, 6.272934534449215, 0.36715748960058914]\n",
            "Best loss: 3.0149367682447945 [3.323337167744689, 17.239527489798157, 6.272934534449215, 0.36715748960058914]\n",
            "Best loss: 2.996821748709571 [3.323337167744689, 17.239527489798157, 6.046811414794817, 0.8599358638818666]\n",
            "Best loss: 2.991846033586814 [3.3315596506883205, 17.214124188757896, 5.9697122852376605, 0.8599358638818666]\n",
            "Best loss: 2.963877181303774 [3.45020406844736, 17.214124188757896, 5.906268464993758, 0.8516059036295154]\n",
            "Best loss: 2.9616600017349377 [3.45020406844736, 16.986223639504814, 5.906268464993758, 0.8516059036295154]\n",
            "Best loss: 2.9581841814107013 [3.45020406844736, 16.986223639504814, 5.899570648990893, 1.0033183259459344]\n",
            "Best loss: 2.908855446271982 [3.7025796695198787, 16.730625566851764, 5.899570648990893, 0.8745471250178882]\n",
            "Best loss: 2.892245281207745 [3.8363419086920647, 16.730625566851764, 5.899570648990893, 0.591068415903262]\n",
            "Best loss: 2.8833676117526403 [3.8363419086920647, 16.730625566851764, 5.803480239090453, 0.5745215277347171]\n",
            "Best loss: 2.883229380931116 [3.8363419086920647, 16.730625566851764, 5.803480239090453, 0.5504793992412882]\n",
            "Best loss: 2.883229380931116 [3.8363419086920647, 16.730625566851764, 5.803480239090453, 0.5504793992412882]\n",
            "Best loss: 2.8815158660299636 [3.8363419086920647, 16.730625566851764, 5.743413048424828, 0.5504793992412882]\n",
            "Best loss: 2.8815158660299636 [3.8363419086920647, 16.730625566851764, 5.743413048424828, 0.5504793992412882]\n",
            "Best loss: 2.8815158660299636 [3.8363419086920647, 16.730625566851764, 5.743413048424828, 0.5504793992412882]\n",
            "Best loss: 2.875672862136439 [3.9475655129370457, 16.730625566851764, 5.743413048424828, 0.5504793992412882]\n",
            "Best loss: 2.871078093312799 [3.9475655129370457, 16.730625566851764, 5.743413048424828, 0.3045542949297708]\n",
            "Best loss: 2.870981129849306 [3.9475655129370457, 16.730625566851764, 5.743413048424828, 0.32315016071793323]\n",
            "Best loss: 2.870981129849306 [3.9475655129370457, 16.730625566851764, 5.743413048424828, 0.32315016071793323]\n",
            "Best loss: 2.869188173918036 [3.9475655129370457, 16.730625566851764, 5.673211131800082, 0.32315016071793323]\n",
            "Best loss: 2.8674289415603265 [3.9475655129370457, 16.730625566851764, 5.637543569652004, 0.40014923708187045]\n"
          ]
        }
      ]
    },
    {
      "cell_type": "code",
      "source": [
        "sorted_population = sorted(population, key=lambda ind: compute_fitness(ind, X_train, y_train))\n",
        "print(sorted_population[-1])"
      ],
      "metadata": {
        "colab": {
          "base_uri": "https://localhost:8080/"
        },
        "id": "6igNc6yjPCIj",
        "outputId": "05f45cb9-771f-4421-bf52-589ed26d327d"
      },
      "execution_count": 138,
      "outputs": [
        {
          "output_type": "stream",
          "name": "stdout",
          "text": [
            "[3.9475655129370457, 16.730625566851764, 5.637543569652004, 0.40014923708187045]\n"
          ]
        }
      ]
    },
    {
      "cell_type": "code",
      "source": [
        "import matplotlib.pyplot as plt\n",
        "\n",
        "plt.plot(losses[:20], c='green')\n",
        "plt.xlabel('Generations')\n",
        "plt.ylabel('losses')\n",
        "plt.show()"
      ],
      "metadata": {
        "colab": {
          "base_uri": "https://localhost:8080/",
          "height": 452
        },
        "id": "hC-E3oR9ciiA",
        "outputId": "7025d9eb-31f7-4102-bf79-a08a61f8f4c4"
      },
      "execution_count": 139,
      "outputs": [
        {
          "output_type": "display_data",
          "data": {
            "text/plain": [
              "<Figure size 640x480 with 1 Axes>"
            ],
            "image/png": "[encoded data removed]"
          },
          "metadata": {}
        }
      ]
    },
    {
      "cell_type": "markdown",
      "source": [
        "## Evaluation"
      ],
      "metadata": {
        "id": "S1MFTYRqcAnk"
      }
    },
    {
      "cell_type": "code",
      "source": [
        "best_individual = sorted_population[-1]\n",
        "best_weights = np.array(best_individual[:-1])\n",
        "best_bias = best_individual[-1]"
      ],
      "metadata": {
        "id": "Y_9TfKXThJId"
      },
      "execution_count": 140,
      "outputs": []
    },
    {
      "cell_type": "code",
      "source": [
        "y_pred = X_test.dot(best_weights) + best_bias"
      ],
      "metadata": {
        "id": "UBa14vdLysyU"
      },
      "execution_count": 144,
      "outputs": []
    },
    {
      "cell_type": "code",
      "source": [
        "from sklearn.metrics import mean_squared_error\n",
        "\n",
        "mse = mean_squared_error(y_test, y_pred)\n",
        "print(\"Mean Squared Error:\", mse)\n"
      ],
      "metadata": {
        "colab": {
          "base_uri": "https://localhost:8080/"
        },
        "id": "_Ud6P0tdys1U",
        "outputId": "8d10ef7e-10d7-425f-ff6b-1d5ead88408c"
      },
      "execution_count": 145,
      "outputs": [
        {
          "output_type": "stream",
          "name": "stdout",
          "text": [
            "Mean Squared Error: 37.541718153497605\n"
          ]
        }
      ]
    },
    {
      "cell_type": "code",
      "source": [
        "import matplotlib.pyplot as plt\n",
        "\n",
        "plt.figure(figsize=(10, 6))\n",
        "plt.scatter(y_test, y_pred, color='blue', label='Dự đoán')\n",
        "plt.plot([min(y_test), max(y_test)], [min(y_test), max(y_test)], color='red', linestyle='--', linewidth=2)\n",
        "plt.xlabel('Thực tế')\n",
        "plt.ylabel('Dự đoán')\n",
        "plt.title('Biểu đồ so sánh giữa giá trị thực tế và dự đoán')\n",
        "plt.legend()\n",
        "plt.show()\n"
      ],
      "metadata": {
        "colab": {
          "base_uri": "https://localhost:8080/",
          "height": 567
        },
        "id": "v6ysRNAdiguy",
        "outputId": "12898d18-7642-42fb-b93c-a30f8d08db97"
      },
      "execution_count": 148,
      "outputs": [
        {
          "output_type": "display_data",
          "data": {
            "text/plain": [
              "<Figure size 1000x600 with 1 Axes>"
            ],
            "image/png": "[encoded data removed]"
          },
          "metadata": {}
        }
      ]
    }
  ]
}